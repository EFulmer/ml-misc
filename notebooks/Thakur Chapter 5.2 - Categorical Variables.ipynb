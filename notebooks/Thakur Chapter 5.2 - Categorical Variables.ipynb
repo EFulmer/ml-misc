{
 "cells": [
  {
   "cell_type": "markdown",
   "id": "0e30226e-f0cf-4f64-8fd7-7f95fbe0e0c7",
   "metadata": {},
   "source": [
    "# XGBoost and Ordinal Encoding"
   ]
  },
  {
   "cell_type": "code",
   "execution_count": 1,
   "id": "a6920eaf-0f40-422e-a050-5acec755bc7e",
   "metadata": {},
   "outputs": [],
   "source": [
    "import pathlib\n",
    "import pprint\n",
    "import warnings\n",
    "\n",
    "import numpy as np\n",
    "import pandas as pd\n",
    "import xgboost as xgb\n",
    "from sklearn import metrics, preprocessing\n",
    "\n",
    "from ml_misc import feature_engineering\n",
    "from ml_misc import run_model"
   ]
  },
  {
   "cell_type": "code",
   "execution_count": 2,
   "id": "3e0504db-9ee0-47a3-8096-6acb66f01619",
   "metadata": {},
   "outputs": [],
   "source": [
    "def run_ordinal(fold_id: int) -> float:\n",
    "    df = pd.read_csv(\"../data/adult_5_folds.csv\")\n",
    "\n",
    "    num_vars = [\n",
    "        \"Unnamed: 0\",\n",
    "        \"age\",\n",
    "    ]\n",
    "    df = df.drop(num_vars, axis=1)\n",
    "\n",
    "    target_mapping = {\n",
    "        \"<=50K\": 0,\n",
    "        \">50K\": 1,\n",
    "    }\n",
    "    df.loc[:, \"income\"] = df.income.map(target_mapping)\n",
    "    features = [\n",
    "        col for col in df.columns if col not in (\"fold_id\", \"income\")\n",
    "    ]\n",
    "\n",
    "    for feature in features:\n",
    "        df.loc[:, feature] = df[feature].astype(str).fillna(\"NONE\")\n",
    "\n",
    "    for feature in features:\n",
    "        enc = preprocessing.OrdinalEncoder()\n",
    "        enc.fit(df.loc[:, feature].values.reshape(-1, 1))\n",
    "        df.loc[:, feature] = enc.transform(df.loc[:, feature].values.reshape(-1, 1))\n",
    "\n",
    "    df_train = df[df.fold_id != fold_id].reset_index(drop=True)\n",
    "    df_valid = df[df.fold_id == fold_id].reset_index(drop=True)\n",
    "\n",
    "    X_train = df_train.loc[:, features].values\n",
    "    X_valid = df_valid.loc[:, features].values\n",
    "    y_train = df_train.loc[:, \"income\"].values.astype(np.int64)\n",
    "    y_valid = df_valid.loc[:, \"income\"].values.astype(np.int64)\n",
    "    \n",
    "    model = xgb.XGBClassifier(n_jobs=-1)\n",
    "    model.fit(X_train, y_train)\n",
    "    \n",
    "    valid_preds = model.predict_proba(X_valid)[:, 1]\n",
    "    auc = metrics.roc_auc_score(y_valid, valid_preds)\n",
    "    print(f\"Fold = {fold_id}, AUC = {auc}\")\n",
    "    return auc"
   ]
  },
  {
   "cell_type": "markdown",
   "id": "dc3002a4-06f5-4db7-84bb-76ead5387e0c",
   "metadata": {},
   "source": [
    "I abstracted all this out into a universal `train_cv` function."
   ]
  },
  {
   "cell_type": "code",
   "execution_count": 3,
   "id": "0c9bc10d-0400-47d2-8e5b-2c8ea63467d7",
   "metadata": {},
   "outputs": [],
   "source": [
    "NON_VARS = [\"Unnamed: 0\"]\n",
    "NUM_VARS = [\"age\", \"fnlwgt\", \"educational-num\", \"capital-gain\", \"hours-per-week\",]\n",
    "TARGET_VAR = \"income\"\n",
    "DEFAULT_MODEL_HYPERPARAMS = {\n",
    "    \"n_jobs\": -1,\n",
    "}\n",
    "TARGET_MAPPING = {\n",
    "    \"<=50K\": 0,\n",
    "    \">50K\": 1,\n",
    "}"
   ]
  },
  {
   "cell_type": "code",
   "execution_count": 6,
   "id": "2db42893-1648-44ec-b24c-e74bdf9dcdd2",
   "metadata": {},
   "outputs": [
    {
     "name": "stdout",
     "output_type": "stream",
     "text": [
      "{0: 0.8870640689898823,\n",
      " 1: 0.8844360704739664,\n",
      " 2: 0.883638042232153,\n",
      " 3: 0.8923951732346085,\n",
      " 4: 0.8902355529090424}\n"
     ]
    }
   ],
   "source": [
    "pprint.pprint(categorical_ordinal)"
   ]
  },
  {
   "cell_type": "code",
   "execution_count": 5,
   "id": "f3f6f816-fed4-4b3f-9d60-d4b6611c48d5",
   "metadata": {
    "scrolled": true
   },
   "outputs": [],
   "source": [
    "categorical_ordinal = {}\n",
    "\n",
    "with warnings.catch_warnings():\n",
    "    warnings.simplefilter(\"ignore\")\n",
    "    for fold_id in range(5):\n",
    "        df = pd.read_csv(\"../data/adult_5_folds.csv\")\n",
    "        auc = run_model.train_cv(\n",
    "            df=df,\n",
    "            fold_id=fold_id,\n",
    "            non_vars=[*NON_VARS, *NUM_VARS],\n",
    "            num_vars=[],\n",
    "            cat_vars=[column for column in df.columns if column not in (*NON_VARS, *NUM_VARS, TARGET_VAR)],\n",
    "            target_var=TARGET_VAR,\n",
    "            model_class=xgb.XGBClassifier,\n",
    "            model_hyperparams=DEFAULT_MODEL_HYPERPARAMS,\n",
    "            target_mapping=TARGET_MAPPING,\n",
    "        )\n",
    "        categorical_ordinal[fold_id] = auc\n",
    "        del df"
   ]
  },
  {
   "cell_type": "markdown",
   "id": "e58ebf66-f602-43be-8741-dc4f3462bbe6",
   "metadata": {},
   "source": [
    "## Changing some hyperparameters\n",
    "(Yes, this code is nowhere near as modular as it could be. I would clean it up for serious production purposes.)"
   ]
  },
  {
   "cell_type": "code",
   "execution_count": 11,
   "id": "3066e615-d37b-436f-878a-59d1bbfd0c71",
   "metadata": {},
   "outputs": [],
   "source": [
    "diff_hps = {}\n",
    "hyperparams = {\n",
    "    \"n_estimators\": 200, \"max_depth\": 7, **DEFAULT_MODEL_HYPERPARAMS,\n",
    "}\n",
    "\n",
    "with warnings.catch_warnings():\n",
    "    warnings.simplefilter(\"ignore\")\n",
    "    for fold_id in range(5):\n",
    "        df = pd.read_csv(\"../data/adult_5_folds.csv\")\n",
    "        auc = run_model.train_cv(\n",
    "            df=df,\n",
    "            fold_id=fold_id,\n",
    "            non_vars=NON_VARS,\n",
    "            num_vars=[],\n",
    "            cat_vars=[column for column in df.columns if column not in (*NON_VARS, *NUM_VARS, TARGET_VAR)],\n",
    "            target_var=TARGET_VAR,\n",
    "            model_class=xgb.XGBClassifier,\n",
    "            model_hyperparams=hyperparams,\n",
    "            target_mapping=TARGET_MAPPING,\n",
    "        )\n",
    "        diff_hps[fold_id] = auc\n",
    "        del df"
   ]
  },
  {
   "cell_type": "code",
   "execution_count": 12,
   "id": "d932fd9b-3225-46d9-8c9a-cb5ca62d1108",
   "metadata": {},
   "outputs": [
    {
     "name": "stdout",
     "output_type": "stream",
     "text": [
      "{0: 0.8870640689898823,\n",
      " 1: 0.8844360704739664,\n",
      " 2: 0.883638042232153,\n",
      " 3: 0.8923951732346085,\n",
      " 4: 0.8902355529090424}\n",
      "{0: 0.880394928465924,\n",
      " 1: 0.8775112845996109,\n",
      " 2: 0.8777903769306056,\n",
      " 3: 0.8869889389457607,\n",
      " 4: 0.884154993303965}\n"
     ]
    }
   ],
   "source": [
    "\n",
    "pprint.pprint(categorical_ordinal)\n",
    "pprint.pprint(diff_hps)"
   ]
  },
  {
   "cell_type": "code",
   "execution_count": 13,
   "id": "db92e48a-08f4-42f9-ae94-a43d80b35814",
   "metadata": {},
   "outputs": [
    {
     "data": {
      "text/html": [
       "<div>\n",
       "<style scoped>\n",
       "    .dataframe tbody tr th:only-of-type {\n",
       "        vertical-align: middle;\n",
       "    }\n",
       "\n",
       "    .dataframe tbody tr th {\n",
       "        vertical-align: top;\n",
       "    }\n",
       "\n",
       "    .dataframe thead th {\n",
       "        text-align: right;\n",
       "    }\n",
       "</style>\n",
       "<table border=\"1\" class=\"dataframe\">\n",
       "  <thead>\n",
       "    <tr style=\"text-align: right;\">\n",
       "      <th></th>\n",
       "      <th>0</th>\n",
       "      <th>1</th>\n",
       "      <th>2</th>\n",
       "      <th>3</th>\n",
       "      <th>4</th>\n",
       "    </tr>\n",
       "  </thead>\n",
       "  <tbody>\n",
       "    <tr>\n",
       "      <th>Categorical features only, OrdinalEncoder</th>\n",
       "      <td>0.887064</td>\n",
       "      <td>0.884436</td>\n",
       "      <td>0.883638</td>\n",
       "      <td>0.892395</td>\n",
       "      <td>0.890236</td>\n",
       "    </tr>\n",
       "    <tr>\n",
       "      <th>Categorical features only, OrdinalEncoder, different hyperparameters</th>\n",
       "      <td>0.880395</td>\n",
       "      <td>0.877511</td>\n",
       "      <td>0.877790</td>\n",
       "      <td>0.886989</td>\n",
       "      <td>0.884155</td>\n",
       "    </tr>\n",
       "  </tbody>\n",
       "</table>\n",
       "</div>"
      ],
      "text/plain": [
       "                                                           0         1  \\\n",
       "Categorical features only, OrdinalEncoder           0.887064  0.884436   \n",
       "Categorical features only, OrdinalEncoder, diff...  0.880395  0.877511   \n",
       "\n",
       "                                                           2         3  \\\n",
       "Categorical features only, OrdinalEncoder           0.883638  0.892395   \n",
       "Categorical features only, OrdinalEncoder, diff...  0.877790  0.886989   \n",
       "\n",
       "                                                           4  \n",
       "Categorical features only, OrdinalEncoder           0.890236  \n",
       "Categorical features only, OrdinalEncoder, diff...  0.884155  "
      ]
     },
     "execution_count": 13,
     "metadata": {},
     "output_type": "execute_result"
    }
   ],
   "source": [
    "results = pd.DataFrame.from_dict(\n",
    "    data={\n",
    "        \"Categorical features only, OrdinalEncoder\": categorical_ordinal,\n",
    "        \"Categorical features only, OrdinalEncoder, different hyperparameters\": diff_hps\n",
    "    },\n",
    "    orient=\"index\",\n",
    ")\n",
    "results.head()"
   ]
  },
  {
   "cell_type": "markdown",
   "id": "4430a277-c1f6-4c56-86e0-8c966317c1f4",
   "metadata": {},
   "source": [
    "Minimal change. How about using the numeric features, too?"
   ]
  },
  {
   "cell_type": "code",
   "execution_count": 14,
   "id": "9a09d274-b0db-4135-a890-cee1b7596277",
   "metadata": {},
   "outputs": [],
   "source": [
    "categorical_and_numeric = {}\n",
    "\n",
    "with warnings.catch_warnings():\n",
    "    warnings.simplefilter(\"ignore\")\n",
    "    for fold_id in range(5):\n",
    "        df = pd.read_csv(\"../data/adult_5_folds.csv\")\n",
    "        auc = run_model.train_cv(\n",
    "            df=df,\n",
    "            fold_id=fold_id,\n",
    "            non_vars=NON_VARS,\n",
    "            num_vars=NUM_VARS,\n",
    "            cat_vars=[column for column in df.columns if column not in (*NON_VARS, *NUM_VARS, TARGET_VAR)],\n",
    "            target_var=TARGET_VAR,\n",
    "            model_class=xgb.XGBClassifier,\n",
    "            model_hyperparams=DEFAULT_MODEL_HYPERPARAMS,\n",
    "            target_mapping=TARGET_MAPPING,\n",
    "        )\n",
    "        categorical_and_numeric[fold_id] = auc\n",
    "        del df"
   ]
  },
  {
   "cell_type": "code",
   "execution_count": 15,
   "id": "3f724764-8101-400b-87d9-1debddf938c1",
   "metadata": {},
   "outputs": [
    {
     "data": {
      "text/html": [
       "<div>\n",
       "<style scoped>\n",
       "    .dataframe tbody tr th:only-of-type {\n",
       "        vertical-align: middle;\n",
       "    }\n",
       "\n",
       "    .dataframe tbody tr th {\n",
       "        vertical-align: top;\n",
       "    }\n",
       "\n",
       "    .dataframe thead th {\n",
       "        text-align: right;\n",
       "    }\n",
       "</style>\n",
       "<table border=\"1\" class=\"dataframe\">\n",
       "  <thead>\n",
       "    <tr style=\"text-align: right;\">\n",
       "      <th></th>\n",
       "      <th>0</th>\n",
       "      <th>1</th>\n",
       "      <th>2</th>\n",
       "      <th>3</th>\n",
       "      <th>4</th>\n",
       "    </tr>\n",
       "  </thead>\n",
       "  <tbody>\n",
       "    <tr>\n",
       "      <th>Categorical features only, OrdinalEncoder</th>\n",
       "      <td>0.887064</td>\n",
       "      <td>0.884436</td>\n",
       "      <td>0.883638</td>\n",
       "      <td>0.892395</td>\n",
       "      <td>0.890236</td>\n",
       "    </tr>\n",
       "    <tr>\n",
       "      <th>Categorical features only, OrdinalEncoder, different hyperparameters</th>\n",
       "      <td>0.880395</td>\n",
       "      <td>0.877511</td>\n",
       "      <td>0.877790</td>\n",
       "      <td>0.886989</td>\n",
       "      <td>0.884155</td>\n",
       "    </tr>\n",
       "    <tr>\n",
       "      <th>Categorical and numeric features, OrdinalEncoder on cats, standard hyperparameters</th>\n",
       "      <td>0.927691</td>\n",
       "      <td>0.924895</td>\n",
       "      <td>0.925445</td>\n",
       "      <td>0.929203</td>\n",
       "      <td>0.928832</td>\n",
       "    </tr>\n",
       "  </tbody>\n",
       "</table>\n",
       "</div>"
      ],
      "text/plain": [
       "                                                           0         1  \\\n",
       "Categorical features only, OrdinalEncoder           0.887064  0.884436   \n",
       "Categorical features only, OrdinalEncoder, diff...  0.880395  0.877511   \n",
       "Categorical and numeric features, OrdinalEncode...  0.927691  0.924895   \n",
       "\n",
       "                                                           2         3  \\\n",
       "Categorical features only, OrdinalEncoder           0.883638  0.892395   \n",
       "Categorical features only, OrdinalEncoder, diff...  0.877790  0.886989   \n",
       "Categorical and numeric features, OrdinalEncode...  0.925445  0.929203   \n",
       "\n",
       "                                                           4  \n",
       "Categorical features only, OrdinalEncoder           0.890236  \n",
       "Categorical features only, OrdinalEncoder, diff...  0.884155  \n",
       "Categorical and numeric features, OrdinalEncode...  0.928832  "
      ]
     },
     "execution_count": 15,
     "metadata": {},
     "output_type": "execute_result"
    }
   ],
   "source": [
    "results = pd.DataFrame.from_dict(\n",
    "    data={\n",
    "        \"Categorical features only, OrdinalEncoder\": categorical_ordinal,\n",
    "        \"Categorical features only, OrdinalEncoder, different hyperparameters\": diff_hps,\n",
    "        \"Categorical and numeric features, OrdinalEncoder on cats, standard hyperparameters\": categorical_and_numeric,\n",
    "    },\n",
    "    orient=\"index\",\n",
    ")\n",
    "results.head()"
   ]
  },
  {
   "cell_type": "markdown",
   "id": "d3b4f833-6fd3-4c6c-9507-47f0437f15f8",
   "metadata": {},
   "source": [
    "Now we will try a naive feature engineering attempt where we create a new feature for each pair of categorical features.\n",
    "\n",
    "The new feature's values are just the concatenation of the two components', with an underscore between each."
   ]
  },
  {
   "cell_type": "code",
   "execution_count": null,
   "id": "81be5957-af0a-4bfa-b374-ce6e28fe0fad",
   "metadata": {},
   "outputs": [],
   "source": [
    "df = pd.read_csv(\"../data/adult_5_folds.csv\")\n",
    "numeric_features = [\"age\", \"finalwgt\", \"educational-num\", \"capital-gain\", \"hours-per-week\",]\n",
    "df = df.drop([\"Unnamed: 0\",], axis=1)\n",
    "categorical_features = [column for column in df.columns if column not in (\"Unnamed: 0\", \"fold_id\", \"income\", *numeric_features)]\n",
    "pprint.pprint(categorical_features)\n"
   ]
  },
  {
   "cell_type": "code",
   "execution_count": null,
   "id": "8a08a23a-7cea-4f58-a892-1e790e97f36e",
   "metadata": {},
   "outputs": [],
   "source": [
    "df = feature_engineering.categorical_features_pairwise(df, categorical_features)"
   ]
  },
  {
   "cell_type": "code",
   "execution_count": null,
   "id": "0ceecfb4-df49-4f7c-8231-44330a4c8c45",
   "metadata": {},
   "outputs": [],
   "source": [
    "df.head()"
   ]
  },
  {
   "cell_type": "code",
   "execution_count": null,
   "id": "24b47f85-b6d0-4cea-9e2a-498744fb1f72",
   "metadata": {},
   "outputs": [],
   "source": [
    "df.to_csv(\"../data/adult_5_folds_naive_fe.csv\", index=False)"
   ]
  },
  {
   "cell_type": "code",
   "execution_count": 17,
   "id": "7237c5a7-043e-4856-bf08-e638d0e0beae",
   "metadata": {},
   "outputs": [],
   "source": [
    "pairwise_fe = {}\n",
    "\n",
    "with warnings.catch_warnings():\n",
    "    warnings.simplefilter(\"ignore\")\n",
    "    for fold_id in range(5):\n",
    "        df = pd.read_csv(\"../data/adult_5_folds_naive_fe.csv\")\n",
    "        auc = run_model.train_cv(\n",
    "            df=df,\n",
    "            fold_id=fold_id,\n",
    "            non_vars=NON_VARS,\n",
    "            num_vars=NUM_VARS,\n",
    "            cat_vars=[column for column in df.columns if column not in (*NON_VARS, *NUM_VARS, TARGET_VAR)],\n",
    "            target_var=TARGET_VAR,\n",
    "            model_class=xgb.XGBClassifier,\n",
    "            model_hyperparams=DEFAULT_MODEL_HYPERPARAMS,\n",
    "            target_mapping=TARGET_MAPPING,\n",
    "        )\n",
    "        pairwise_fe[fold_id] = auc\n",
    "        del df"
   ]
  },
  {
   "cell_type": "code",
   "execution_count": 18,
   "id": "07ffeaa3-fd05-4742-8f0c-6e2ff4c9c6e3",
   "metadata": {},
   "outputs": [
    {
     "data": {
      "text/html": [
       "<div>\n",
       "<style scoped>\n",
       "    .dataframe tbody tr th:only-of-type {\n",
       "        vertical-align: middle;\n",
       "    }\n",
       "\n",
       "    .dataframe tbody tr th {\n",
       "        vertical-align: top;\n",
       "    }\n",
       "\n",
       "    .dataframe thead th {\n",
       "        text-align: right;\n",
       "    }\n",
       "</style>\n",
       "<table border=\"1\" class=\"dataframe\">\n",
       "  <thead>\n",
       "    <tr style=\"text-align: right;\">\n",
       "      <th></th>\n",
       "      <th>0</th>\n",
       "      <th>1</th>\n",
       "      <th>2</th>\n",
       "      <th>3</th>\n",
       "      <th>4</th>\n",
       "    </tr>\n",
       "  </thead>\n",
       "  <tbody>\n",
       "    <tr>\n",
       "      <th>Categorical features only, OrdinalEncoder</th>\n",
       "      <td>0.887064</td>\n",
       "      <td>0.884436</td>\n",
       "      <td>0.883638</td>\n",
       "      <td>0.892395</td>\n",
       "      <td>0.890236</td>\n",
       "    </tr>\n",
       "    <tr>\n",
       "      <th>Categorical features only, OrdinalEncoder, different hyperparameters</th>\n",
       "      <td>0.880395</td>\n",
       "      <td>0.877511</td>\n",
       "      <td>0.877790</td>\n",
       "      <td>0.886989</td>\n",
       "      <td>0.884155</td>\n",
       "    </tr>\n",
       "    <tr>\n",
       "      <th>Categorical and numeric features, OrdinalEncoder on cats, standard hyperparameters</th>\n",
       "      <td>0.927691</td>\n",
       "      <td>0.924895</td>\n",
       "      <td>0.925445</td>\n",
       "      <td>0.929203</td>\n",
       "      <td>0.928832</td>\n",
       "    </tr>\n",
       "    <tr>\n",
       "      <th>Adding pairwise categorical features, OrdinalEncoder on cats, standard hyperparameters</th>\n",
       "      <td>0.927807</td>\n",
       "      <td>0.924908</td>\n",
       "      <td>0.925472</td>\n",
       "      <td>0.927451</td>\n",
       "      <td>0.928664</td>\n",
       "    </tr>\n",
       "  </tbody>\n",
       "</table>\n",
       "</div>"
      ],
      "text/plain": [
       "                                                           0         1  \\\n",
       "Categorical features only, OrdinalEncoder           0.887064  0.884436   \n",
       "Categorical features only, OrdinalEncoder, diff...  0.880395  0.877511   \n",
       "Categorical and numeric features, OrdinalEncode...  0.927691  0.924895   \n",
       "Adding pairwise categorical features, OrdinalEn...  0.927807  0.924908   \n",
       "\n",
       "                                                           2         3  \\\n",
       "Categorical features only, OrdinalEncoder           0.883638  0.892395   \n",
       "Categorical features only, OrdinalEncoder, diff...  0.877790  0.886989   \n",
       "Categorical and numeric features, OrdinalEncode...  0.925445  0.929203   \n",
       "Adding pairwise categorical features, OrdinalEn...  0.925472  0.927451   \n",
       "\n",
       "                                                           4  \n",
       "Categorical features only, OrdinalEncoder           0.890236  \n",
       "Categorical features only, OrdinalEncoder, diff...  0.884155  \n",
       "Categorical and numeric features, OrdinalEncode...  0.928832  \n",
       "Adding pairwise categorical features, OrdinalEn...  0.928664  "
      ]
     },
     "execution_count": 18,
     "metadata": {},
     "output_type": "execute_result"
    }
   ],
   "source": [
    "results = pd.DataFrame.from_dict(\n",
    "    data={\n",
    "        \"Categorical features only, OrdinalEncoder\": categorical_ordinal,\n",
    "        \"Categorical features only, OrdinalEncoder, different hyperparameters\": diff_hps,\n",
    "        \"Categorical and numeric features, OrdinalEncoder on cats, standard hyperparameters\": categorical_and_numeric,\n",
    "        \"Adding pairwise categorical features, OrdinalEncoder on cats, standard hyperparameters\": pairwise_fe,\n",
    "    },\n",
    "    orient=\"index\",\n",
    ")\n",
    "results.head()"
   ]
  },
  {
   "cell_type": "markdown",
   "id": "e28d4c93-f014-4000-a79c-a4ff807625b7",
   "metadata": {},
   "source": [
    "Okay; let's try the different hyperparameters too!"
   ]
  },
  {
   "cell_type": "code",
   "execution_count": 19,
   "id": "85584b85-7766-4a3f-8c9a-a7b8d612c811",
   "metadata": {},
   "outputs": [
    {
     "data": {
      "text/html": [
       "<div>\n",
       "<style scoped>\n",
       "    .dataframe tbody tr th:only-of-type {\n",
       "        vertical-align: middle;\n",
       "    }\n",
       "\n",
       "    .dataframe tbody tr th {\n",
       "        vertical-align: top;\n",
       "    }\n",
       "\n",
       "    .dataframe thead th {\n",
       "        text-align: right;\n",
       "    }\n",
       "</style>\n",
       "<table border=\"1\" class=\"dataframe\">\n",
       "  <thead>\n",
       "    <tr style=\"text-align: right;\">\n",
       "      <th></th>\n",
       "      <th>0</th>\n",
       "      <th>1</th>\n",
       "      <th>2</th>\n",
       "      <th>3</th>\n",
       "      <th>4</th>\n",
       "    </tr>\n",
       "  </thead>\n",
       "  <tbody>\n",
       "    <tr>\n",
       "      <th>Categorical features only, OrdinalEncoder</th>\n",
       "      <td>0.887064</td>\n",
       "      <td>0.884436</td>\n",
       "      <td>0.883638</td>\n",
       "      <td>0.892395</td>\n",
       "      <td>0.890236</td>\n",
       "    </tr>\n",
       "    <tr>\n",
       "      <th>Categorical features only, OrdinalEncoder, different hyperparameters</th>\n",
       "      <td>0.880395</td>\n",
       "      <td>0.877511</td>\n",
       "      <td>0.877790</td>\n",
       "      <td>0.886989</td>\n",
       "      <td>0.884155</td>\n",
       "    </tr>\n",
       "    <tr>\n",
       "      <th>Categorical and numeric features, OrdinalEncoder on cats, standard hyperparameters</th>\n",
       "      <td>0.927691</td>\n",
       "      <td>0.924895</td>\n",
       "      <td>0.925445</td>\n",
       "      <td>0.929203</td>\n",
       "      <td>0.928832</td>\n",
       "    </tr>\n",
       "    <tr>\n",
       "      <th>Adding pairwise categorical features, OrdinalEncoder on cats, standard hyperparameters</th>\n",
       "      <td>0.927807</td>\n",
       "      <td>0.924908</td>\n",
       "      <td>0.925472</td>\n",
       "      <td>0.927451</td>\n",
       "      <td>0.928664</td>\n",
       "    </tr>\n",
       "    <tr>\n",
       "      <th>Pairwise categorical features, different hyperparams</th>\n",
       "      <td>0.923226</td>\n",
       "      <td>0.919218</td>\n",
       "      <td>0.919084</td>\n",
       "      <td>0.923459</td>\n",
       "      <td>0.922880</td>\n",
       "    </tr>\n",
       "  </tbody>\n",
       "</table>\n",
       "</div>"
      ],
      "text/plain": [
       "                                                           0         1  \\\n",
       "Categorical features only, OrdinalEncoder           0.887064  0.884436   \n",
       "Categorical features only, OrdinalEncoder, diff...  0.880395  0.877511   \n",
       "Categorical and numeric features, OrdinalEncode...  0.927691  0.924895   \n",
       "Adding pairwise categorical features, OrdinalEn...  0.927807  0.924908   \n",
       "Pairwise categorical features, different hyperp...  0.923226  0.919218   \n",
       "\n",
       "                                                           2         3  \\\n",
       "Categorical features only, OrdinalEncoder           0.883638  0.892395   \n",
       "Categorical features only, OrdinalEncoder, diff...  0.877790  0.886989   \n",
       "Categorical and numeric features, OrdinalEncode...  0.925445  0.929203   \n",
       "Adding pairwise categorical features, OrdinalEn...  0.925472  0.927451   \n",
       "Pairwise categorical features, different hyperp...  0.919084  0.923459   \n",
       "\n",
       "                                                           4  \n",
       "Categorical features only, OrdinalEncoder           0.890236  \n",
       "Categorical features only, OrdinalEncoder, diff...  0.884155  \n",
       "Categorical and numeric features, OrdinalEncode...  0.928832  \n",
       "Adding pairwise categorical features, OrdinalEn...  0.928664  \n",
       "Pairwise categorical features, different hyperp...  0.922880  "
      ]
     },
     "execution_count": 19,
     "metadata": {},
     "output_type": "execute_result"
    }
   ],
   "source": [
    "pairwise_fe_hyperparams = {}\n",
    "\n",
    "with warnings.catch_warnings():\n",
    "    warnings.simplefilter(\"ignore\")\n",
    "    for fold_id in range(5):\n",
    "        df = pd.read_csv(\"../data/adult_5_folds_naive_fe.csv\")\n",
    "        auc = run_model.train_cv(\n",
    "            df=df,\n",
    "            fold_id=fold_id,\n",
    "            non_vars=NON_VARS,\n",
    "            num_vars=NUM_VARS,\n",
    "            cat_vars=[column for column in df.columns if column not in (*NON_VARS, *NUM_VARS, TARGET_VAR)],\n",
    "            target_var=TARGET_VAR,\n",
    "            model_class=xgb.XGBClassifier,\n",
    "            model_hyperparams=hyperparams,\n",
    "            target_mapping=TARGET_MAPPING,\n",
    "        )\n",
    "        pairwise_fe_hyperparams[fold_id] = auc\n",
    "        del df\n",
    "\n",
    "results = pd.DataFrame.from_dict(\n",
    "    data={\n",
    "        \"Categorical features only, OrdinalEncoder\": categorical_ordinal,\n",
    "        \"Categorical features only, OrdinalEncoder, different hyperparameters\": diff_hps,\n",
    "        \"Categorical and numeric features, OrdinalEncoder on cats, standard hyperparameters\": categorical_and_numeric,\n",
    "        \"Adding pairwise categorical features, OrdinalEncoder on cats, standard hyperparameters\": pairwise_fe,\n",
    "        \"Pairwise categorical features, different hyperparams\": pairwise_fe_hyperparams\n",
    "    },\n",
    "    orient=\"index\",\n",
    ")\n",
    "results.head()"
   ]
  },
  {
   "cell_type": "markdown",
   "id": "0c3b8f4e-ee09-4094-b0d2-e563a11037fa",
   "metadata": {},
   "source": [
    "I skipped the TargetEncoder example; it was just a bit too much much \"more of the same\""
   ]
  },
  {
   "cell_type": "code",
   "execution_count": null,
   "id": "ef1e24ca-a5b7-4b5c-9c0f-756ae2ff4fe8",
   "metadata": {},
   "outputs": [],
   "source": []
  }
 ],
 "metadata": {
  "kernelspec": {
   "display_name": "Python 3 (ipykernel)",
   "language": "python",
   "name": "python3"
  },
  "language_info": {
   "codemirror_mode": {
    "name": "ipython",
    "version": 3
   },
   "file_extension": ".py",
   "mimetype": "text/x-python",
   "name": "python",
   "nbconvert_exporter": "python",
   "pygments_lexer": "ipython3",
   "version": "3.9.17"
  }
 },
 "nbformat": 4,
 "nbformat_minor": 5
}
