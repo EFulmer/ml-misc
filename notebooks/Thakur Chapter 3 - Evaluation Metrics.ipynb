{
 "cells": [
  {
   "cell_type": "code",
   "execution_count": 1,
   "id": "d0e81fec-0e4e-4b1c-968f-7c6a676e425b",
   "metadata": {},
   "outputs": [],
   "source": [
    "from collections import Counter\n",
    "\n",
    "import matplotlib.pyplot as plt\n",
    "import numpy as np\n",
    "import pandas as pd\n",
    "from sklearn import metrics"
   ]
  },
  {
   "cell_type": "code",
   "execution_count": 2,
   "id": "a441b324-30f4-48d5-bf75-328a0151894d",
   "metadata": {},
   "outputs": [],
   "source": [
    "%matplotlib inline"
   ]
  },
  {
   "cell_type": "code",
   "execution_count": 3,
   "id": "87c253c6-e654-4989-8911-3b46109f35ee",
   "metadata": {},
   "outputs": [],
   "source": [
    "def accuracy(y_true, y_pred):\n",
    "    correct = 0\n",
    "    for yt, yp in zip(y_true, y_pred):\n",
    "        # Being clever with how booleans are ints in Python:\n",
    "        correct += yt == yp\n",
    "    return correct / len(y_true)"
   ]
  },
  {
   "cell_type": "code",
   "execution_count": 4,
   "id": "d71988b1-6e07-447d-b1d7-0520369b83ce",
   "metadata": {},
   "outputs": [
    {
     "name": "stdout",
     "output_type": "stream",
     "text": [
      "accuracy = 0.625, sklearn accuracy = 0.625\n"
     ]
    }
   ],
   "source": [
    "l1 = [0, 1, 1, 1, 0, 0, 0, 1]\n",
    "l2 = [0, 1, 0, 1, 0, 1, 0, 0]\n",
    "print(f\"accuracy = {accuracy(l1, l2)}, sklearn accuracy = {metrics.accuracy_score(l1, l2)}\")"
   ]
  },
  {
   "cell_type": "code",
   "execution_count": 5,
   "id": "541fd5b8-ab17-45e0-9055-c1ce71319d8a",
   "metadata": {},
   "outputs": [],
   "source": [
    "def true_positive_count(y_true, y_pred):\n",
    "    return sum(\n",
    "        1 for yt, yp in zip(y_true, y_pred) if yt == 1 and yp == 1\n",
    "    )\n",
    "\n",
    "def true_positive_rate(y_true, y_pred):\n",
    "    return true_positive_count(y_true, y_pred) / len(y_true)\n",
    "\n",
    "def true_negative_count(y_true, y_pred):\n",
    "    return sum(\n",
    "        1 for yt, yp in zip(y_true, y_pred) if yt == 0 and yp == 0\n",
    "    )\n",
    "\n",
    "def true_negative_rate(y_true, y_pred):\n",
    "    return true_negative_count(y_true, y_pred) / len(y_true)\n",
    "\n",
    "def false_positive_count(y_true, y_pred):\n",
    "    return sum(\n",
    "        1 for yt, yp in zip(y_true, y_pred) if yt == 0 and yp == 1\n",
    "    )\n",
    "\n",
    "def false_positive_rate(y_true, y_pred):\n",
    "    return false_positive_count(y_true, y_pred) / len(y_true)\n",
    "\n",
    "def false_negative_count(y_true, y_pred):\n",
    "    return sum(\n",
    "        1 for yt, yp in zip(y_true, y_pred) if yt == 1 and yp == 0\n",
    "    )\n",
    "\n",
    "def false_negative_rate(y_true, y_pred):\n",
    "    return false_negative_count(y_true, y_pred) / len(y_true)\n",
    "\n",
    "def alternate_accuracy(y_true, y_pred):\n",
    "    tpr = true_positive_rate(y_true, y_pred)\n",
    "    tnr = true_negative_rate(y_true, y_pred)\n",
    "    fpr = false_positive_rate(y_true, y_pred)\n",
    "    fnr = false_negative_rate(y_true, y_pred)\n",
    "    return (tpr + tnr) / (tpr + tnr + fpr + fnr)"
   ]
  },
  {
   "cell_type": "code",
   "execution_count": 6,
   "id": "ba53e656-c507-44b1-9a07-ad6bec3e1c13",
   "metadata": {},
   "outputs": [
    {
     "name": "stdout",
     "output_type": "stream",
     "text": [
      "alternate accuracy = 0.625\n"
     ]
    }
   ],
   "source": [
    "print(f\"alternate accuracy = {accuracy(l1, l2)}\")"
   ]
  },
  {
   "cell_type": "code",
   "execution_count": 7,
   "id": "e37a2144-3d86-4389-965e-7f67a85c8af1",
   "metadata": {},
   "outputs": [],
   "source": [
    "def precision(y_true, y_pred):\n",
    "    tpr = true_positive_rate(y_true, y_pred)\n",
    "    fpr = false_positive_rate(y_true, y_pred)\n",
    "    return tpr / (tpr + fpr)"
   ]
  },
  {
   "cell_type": "code",
   "execution_count": 8,
   "id": "92bafb6e-87ed-4ed1-8fb7-a0479693beb0",
   "metadata": {},
   "outputs": [
    {
     "name": "stdout",
     "output_type": "stream",
     "text": [
      "precision(l1, l2) = 0.6666666666666666\n"
     ]
    }
   ],
   "source": [
    "print(f\"{precision(l1, l2) = }\")"
   ]
  },
  {
   "cell_type": "code",
   "execution_count": 9,
   "id": "d310dbb1-3447-4560-98fd-45a01c92ea5a",
   "metadata": {},
   "outputs": [],
   "source": [
    "def recall(y_true, y_pred):\n",
    "    tpr = true_positive_rate(y_true, y_pred)\n",
    "    fnr = false_negative_rate(y_true, y_pred)\n",
    "    return tpr / (tpr + fnr)"
   ]
  },
  {
   "cell_type": "code",
   "execution_count": 10,
   "id": "f2ecbc0b-3c1e-4fbd-88f9-6293b122dd62",
   "metadata": {},
   "outputs": [
    {
     "name": "stdout",
     "output_type": "stream",
     "text": [
      "recall(l1, l2) = 0.5\n"
     ]
    }
   ],
   "source": [
    "print(f\"{recall(l1, l2) = }\")"
   ]
  },
  {
   "cell_type": "code",
   "execution_count": 11,
   "id": "e52ad055-f28f-4a6e-ae8b-45e48b3a5557",
   "metadata": {},
   "outputs": [],
   "source": [
    "y_true = [0, 0, 0, 1, 0, 0, 0, 0, 0, 0,\n",
    "          1, 0, 0, 0, 0, 0, 0, 0, 1, 0]\n",
    "\n",
    "y_pred = [0.02638412, 0.11114267, 0.31620708,\n",
    "          0.0490937,  0.0191491,  0.17554844,\n",
    "          0.15952202, 0.03819563, 0.11639273,\n",
    "          0.079377,   0.08584789, 0.39095342,\n",
    "          0.27259048, 0.03447096, 0.04644807,\n",
    "          0.03543574, 0.18521942, 0.05934905,\n",
    "          0.61977213, 0.33056815,]"
   ]
  },
  {
   "cell_type": "code",
   "execution_count": 12,
   "id": "32ab8c44-7269-45e1-aeb7-a4b83ee40f92",
   "metadata": {},
   "outputs": [
    {
     "data": {
      "text/plain": [
       "True"
      ]
     },
     "execution_count": 12,
     "metadata": {},
     "output_type": "execute_result"
    }
   ],
   "source": [
    "len(y_true) == len(y_pred)"
   ]
  },
  {
   "cell_type": "code",
   "execution_count": 13,
   "id": "2891be1d-d578-4776-bd20-821ec6bba228",
   "metadata": {},
   "outputs": [],
   "source": [
    "precisions = []\n",
    "recalls = []\n",
    "classification_thresholds = [0.0490937 , 0.05934905, 0.079377,\n",
    "                             0.08584789, 0.11114267, 0.11639273,\n",
    "                             0.15952202, 0.17554844, 0.18521942,\n",
    "                             0.27259048, 0.31620708, 0.33056815,\n",
    "                             0.39095342, 0.61977213,]\n",
    "\n",
    "for threshold in classification_thresholds:\n",
    "    temp_predictions = [int(pred >= threshold) for pred in y_pred]\n",
    "    precisions.append(precision(y_true, temp_predictions))\n",
    "    recalls.append(recall(y_true, temp_predictions))"
   ]
  },
  {
   "cell_type": "code",
   "execution_count": 14,
   "id": "21d7a025-e2b0-46fa-82bf-fdd9d0b16e5e",
   "metadata": {},
   "outputs": [
    {
     "data": {
      "text/plain": [
       "Text(0, 0.5, 'Precision')"
      ]
     },
     "execution_count": 14,
     "metadata": {},
     "output_type": "execute_result"
    },
    {
     "data": {
      "image/png": "[encoded data removed]",
      "text/plain": [
       "<Figure size 700x700 with 1 Axes>"
      ]
     },
     "metadata": {},
     "output_type": "display_data"
    }
   ],
   "source": [
    "plt.figure(figsize=(7,7))\n",
    "plt.plot(recalls, precisions)\n",
    "plt.xlabel(\"Recall\", fontsize=15)\n",
    "plt.ylabel(\"Precision\", fontsize=15)"
   ]
  },
  {
   "cell_type": "code",
   "execution_count": 15,
   "id": "4b49594e-7d2d-475e-a623-ede36f417bbb",
   "metadata": {},
   "outputs": [],
   "source": [
    "def f1_score(y_true, y_pred):\n",
    "    prec = precision(y_true, y_pred)\n",
    "    rec  = recall(y_true, y_pred)\n",
    "    return (2 * prec * rec) / (prec + rec)"
   ]
  },
  {
   "cell_type": "code",
   "execution_count": 16,
   "id": "bbab39dc-8526-47ae-a0db-008119e14c36",
   "metadata": {},
   "outputs": [
    {
     "name": "stdout",
     "output_type": "stream",
     "text": [
      "Our F1 score = 0.5714, sklearn's = 0.5714\n"
     ]
    }
   ],
   "source": [
    "print(f\"Our F1 score = {f1_score(l1, l2):.4}, sklearn's = {metrics.f1_score(l1, l2):.4}\")"
   ]
  },
  {
   "cell_type": "code",
   "execution_count": 17,
   "id": "77b60fcf-d42b-4c68-8449-b45b1cd86b51",
   "metadata": {},
   "outputs": [],
   "source": [
    "tprs = []\n",
    "fprs = []\n",
    "\n",
    "y_true = [0, 0, 0, 0, 1, 0, 1,\n",
    "          0, 0, 1, 0, 1, 0, 0, 1,]\n",
    "\n",
    "y_pred = [0.1, 0.3, 0.2, 0.6, 0.8, 0.05,\n",
    "          0.9, 0.5, 0.3, 0.66, 0.3, 0.2,\n",
    "          0.85, 0.15, 0.99,]\n",
    "\n",
    "thresholds = [0, 0.1, 0.2, 0.3, 0.4, 0.5,\n",
    "              0.6, 0.7, 0.8, 0.85, 0.9, 0.99, 1.0]\n",
    "\n",
    "for threshold in thresholds:\n",
    "    temp_preds = [int(p >= threshold) for p in y_pred]\n",
    "    tprs.append(true_positive_rate(y_true, temp_preds))\n",
    "    fprs.append(false_positive_rate(y_true, temp_preds))    "
   ]
  },
  {
   "cell_type": "code",
   "execution_count": 18,
   "id": "65f70163-2848-4dd1-b031-ed418eeef561",
   "metadata": {},
   "outputs": [
    {
     "data": {
      "text/html": [
       "<div>\n",
       "<style scoped>\n",
       "    .dataframe tbody tr th:only-of-type {\n",
       "        vertical-align: middle;\n",
       "    }\n",
       "\n",
       "    .dataframe tbody tr th {\n",
       "        vertical-align: top;\n",
       "    }\n",
       "\n",
       "    .dataframe thead th {\n",
       "        text-align: right;\n",
       "    }\n",
       "</style>\n",
       "<table border=\"1\" class=\"dataframe\">\n",
       "  <thead>\n",
       "    <tr style=\"text-align: right;\">\n",
       "      <th></th>\n",
       "      <th>threshold</th>\n",
       "      <th>tpr</th>\n",
       "      <th>fpr</th>\n",
       "    </tr>\n",
       "  </thead>\n",
       "  <tbody>\n",
       "    <tr>\n",
       "      <th>0</th>\n",
       "      <td>0.00</td>\n",
       "      <td>0.333333</td>\n",
       "      <td>0.666667</td>\n",
       "    </tr>\n",
       "    <tr>\n",
       "      <th>1</th>\n",
       "      <td>0.10</td>\n",
       "      <td>0.333333</td>\n",
       "      <td>0.600000</td>\n",
       "    </tr>\n",
       "    <tr>\n",
       "      <th>2</th>\n",
       "      <td>0.20</td>\n",
       "      <td>0.333333</td>\n",
       "      <td>0.466667</td>\n",
       "    </tr>\n",
       "    <tr>\n",
       "      <th>3</th>\n",
       "      <td>0.30</td>\n",
       "      <td>0.266667</td>\n",
       "      <td>0.400000</td>\n",
       "    </tr>\n",
       "    <tr>\n",
       "      <th>4</th>\n",
       "      <td>0.40</td>\n",
       "      <td>0.266667</td>\n",
       "      <td>0.200000</td>\n",
       "    </tr>\n",
       "    <tr>\n",
       "      <th>5</th>\n",
       "      <td>0.50</td>\n",
       "      <td>0.266667</td>\n",
       "      <td>0.200000</td>\n",
       "    </tr>\n",
       "    <tr>\n",
       "      <th>6</th>\n",
       "      <td>0.60</td>\n",
       "      <td>0.266667</td>\n",
       "      <td>0.133333</td>\n",
       "    </tr>\n",
       "    <tr>\n",
       "      <th>7</th>\n",
       "      <td>0.70</td>\n",
       "      <td>0.200000</td>\n",
       "      <td>0.066667</td>\n",
       "    </tr>\n",
       "    <tr>\n",
       "      <th>8</th>\n",
       "      <td>0.80</td>\n",
       "      <td>0.200000</td>\n",
       "      <td>0.066667</td>\n",
       "    </tr>\n",
       "    <tr>\n",
       "      <th>9</th>\n",
       "      <td>0.85</td>\n",
       "      <td>0.133333</td>\n",
       "      <td>0.066667</td>\n",
       "    </tr>\n",
       "    <tr>\n",
       "      <th>10</th>\n",
       "      <td>0.90</td>\n",
       "      <td>0.133333</td>\n",
       "      <td>0.000000</td>\n",
       "    </tr>\n",
       "    <tr>\n",
       "      <th>11</th>\n",
       "      <td>0.99</td>\n",
       "      <td>0.066667</td>\n",
       "      <td>0.000000</td>\n",
       "    </tr>\n",
       "    <tr>\n",
       "      <th>12</th>\n",
       "      <td>1.00</td>\n",
       "      <td>0.000000</td>\n",
       "      <td>0.000000</td>\n",
       "    </tr>\n",
       "  </tbody>\n",
       "</table>\n",
       "</div>"
      ],
      "text/plain": [
       "    threshold       tpr       fpr\n",
       "0        0.00  0.333333  0.666667\n",
       "1        0.10  0.333333  0.600000\n",
       "2        0.20  0.333333  0.466667\n",
       "3        0.30  0.266667  0.400000\n",
       "4        0.40  0.266667  0.200000\n",
       "5        0.50  0.266667  0.200000\n",
       "6        0.60  0.266667  0.133333\n",
       "7        0.70  0.200000  0.066667\n",
       "8        0.80  0.200000  0.066667\n",
       "9        0.85  0.133333  0.066667\n",
       "10       0.90  0.133333  0.000000\n",
       "11       0.99  0.066667  0.000000\n",
       "12       1.00  0.000000  0.000000"
      ]
     },
     "execution_count": 18,
     "metadata": {},
     "output_type": "execute_result"
    }
   ],
   "source": [
    "df = pd.DataFrame({\n",
    "    \"threshold\": thresholds,\n",
    "    \"tpr\": tprs,\n",
    "    \"fpr\": fprs,\n",
    "})\n",
    "df"
   ]
  },
  {
   "cell_type": "code",
   "execution_count": 19,
   "id": "8baf9798-3dba-472d-be4e-c9539bad2fc6",
   "metadata": {},
   "outputs": [
    {
     "data": {
      "image/png": "[encoded data removed]",
      "text/plain": [
       "<Figure size 700x700 with 1 Axes>"
      ]
     },
     "metadata": {},
     "output_type": "display_data"
    }
   ],
   "source": [
    "plt.figure(figsize=(7, 7))\n",
    "plt.fill_between(fprs, tprs, alpha=0.4)\n",
    "plt.plot(fprs, tprs, lw=3)\n",
    "plt.xlim(0, 1.0)\n",
    "plt.ylim(0, 1.0)\n",
    "plt.xlabel(\"False Positive Rate\", fontsize=15)\n",
    "plt.ylabel(\"True Positive Rate\", fontsize=15)\n",
    "plt.show()"
   ]
  },
  {
   "cell_type": "code",
   "execution_count": 20,
   "id": "0a6d5eb2-a55e-41d9-b6ec-8bd80b27c100",
   "metadata": {},
   "outputs": [
    {
     "name": "stdout",
     "output_type": "stream",
     "text": [
      "ROC AUC score = 0.83\n"
     ]
    }
   ],
   "source": [
    "print(f\"ROC AUC score = {metrics.roc_auc_score(y_true, y_pred):.4}\")"
   ]
  },
  {
   "cell_type": "code",
   "execution_count": 21,
   "id": "2b695e15-b534-425e-ad1a-ca4d918bae69",
   "metadata": {},
   "outputs": [
    {
     "data": {
      "text/plain": [
       "[<matplotlib.lines.Line2D at 0x7fde54142280>]"
      ]
     },
     "execution_count": 21,
     "metadata": {},
     "output_type": "execute_result"
    },
    {
     "data": {
      "image/png": "[encoded data removed]",
      "text/plain": [
       "<Figure size 700x700 with 1 Axes>"
      ]
     },
     "metadata": {},
     "output_type": "display_data"
    }
   ],
   "source": [
    "xs = np.arange(1, 1_000_000)\n",
    "ys = np.log10(xs)\n",
    "plt.figure(figsize=(7, 7))\n",
    "plt.plot(xs, ys, lw=3)"
   ]
  },
  {
   "cell_type": "code",
   "execution_count": 22,
   "id": "12658c14-e0b3-4d6b-afa0-1c7ac05f8cad",
   "metadata": {},
   "outputs": [],
   "source": [
    "def ll(true, pred):\n",
    "    pos_error = true * np.log(pred)\n",
    "    neg_error = (1 - true) * np.log(1 - pred)\n",
    "    return -1 * (pos_error + neg_error)\n",
    "\n",
    "vec_ll = np.vectorize(ll)\n",
    "\n",
    "def log_loss(y_true, y_pred):\n",
    "    epsilon = 1e-15\n",
    "    y_pred = np.clip(y_pred, epsilon, 1 - epsilon)\n",
    "    losses = vec_ll(y_true, y_pred)\n",
    "    return np.mean(losses)"
   ]
  },
  {
   "cell_type": "code",
   "execution_count": 23,
   "id": "9a29ffa3-01f9-44f2-b37b-e8584f7c291e",
   "metadata": {},
   "outputs": [
    {
     "name": "stdout",
     "output_type": "stream",
     "text": [
      "Log loss = 0.4988\n"
     ]
    }
   ],
   "source": [
    "print(f\"Log loss = {log_loss(y_true, y_pred):.4}\")"
   ]
  },
  {
   "cell_type": "code",
   "execution_count": 24,
   "id": "319bbb51-5ee1-4bcc-a959-efc1a22a4ef3",
   "metadata": {},
   "outputs": [],
   "source": [
    "def macro_precision(y_true, y_pred):\n",
    "    num_classes = len(np.unique(y_true))\n",
    "    total_precision = 0\n",
    "    for class_id in range(num_classes):\n",
    "        current_class_true = [int(y == class_id) for y in y_true]\n",
    "        current_class_pred = [int(y == class_id) for y in y_pred]\n",
    "        current_class_prec = precision(current_class_true, current_class_pred)\n",
    "        total_precision += current_class_prec\n",
    "    return total_precision / num_classes\n",
    "\n",
    "def micro_precision(y_true, y_pred):\n",
    "    num_classes = len(np.unique(y_true))\n",
    "    total_tpc = 0\n",
    "    total_fpc = 0\n",
    "    for class_id in range(num_classes):\n",
    "        current_class_true = [int(y == class_id) for y in y_true]\n",
    "        current_class_pred = [int(y == class_id) for y in y_pred]\n",
    "        total_tpc += true_positive_count(current_class_true, current_class_pred)\n",
    "        total_fpc += false_positive_count(current_class_true, current_class_pred)\n",
    "    precision = total_tpc / (total_tpc + total_fpc)\n",
    "    return precision\n",
    "\n",
    "def weighted_precision(y_true, y_pred):\n",
    "    num_classes = len(np.unique(y_true))\n",
    "    class_counts = Counter(y_true)\n",
    "    running_precision = 0\n",
    "    \n",
    "    for class_id in range(num_classes):\n",
    "        current_class_true = [int(y == class_id) for y in y_true]\n",
    "        current_class_pred = [int(y == class_id) for y in y_pred]\n",
    "        current_class_prec = precision(current_class_true, current_class_pred)\n",
    "        weighted_prec = class_counts[class_id] * current_class_prec\n",
    "        running_precision += weighted_prec\n",
    "\n",
    "    overall_prec = running_precision / len(y_true)\n",
    "    return overall_prec"
   ]
  },
  {
   "cell_type": "code",
   "execution_count": 25,
   "id": "fd05dbcb-d118-4d9a-9d72-0b1b19ec24d6",
   "metadata": {},
   "outputs": [],
   "source": [
    "y_true = [0, 1, 2, 0, 1, 2, 0, 2, 2]\n",
    "y_pred = [0, 2, 1, 0, 2, 1, 0, 0, 2]"
   ]
  },
  {
   "cell_type": "code",
   "execution_count": 26,
   "id": "5a9cb418-f2be-461c-9c2a-b83b9f064880",
   "metadata": {},
   "outputs": [
    {
     "name": "stdout",
     "output_type": "stream",
     "text": [
      "Our macro precision implementation = 0.3611, sklearn's = 0.3611\n"
     ]
    }
   ],
   "source": [
    "print(\n",
    "    f\"Our macro precision implementation = {macro_precision(y_true, y_pred):.4}, \" \n",
    "    f\"sklearn's = {metrics.precision_score(y_true, y_pred, average='macro'):.4}\"\n",
    ")"
   ]
  },
  {
   "cell_type": "code",
   "execution_count": 27,
   "id": "0c09b6f8-4859-44c0-8b43-f448e4d8fa9e",
   "metadata": {},
   "outputs": [
    {
     "name": "stdout",
     "output_type": "stream",
     "text": [
      "Our micro precision implementation = 0.4444, sklearn's = 0.4444\n"
     ]
    }
   ],
   "source": [
    "print(f\"Our micro precision implementation = {micro_precision(y_true, y_pred):.4}, sklearn's = {metrics.precision_score(y_true, y_pred, average='micro'):.4}\")"
   ]
  },
  {
   "cell_type": "code",
   "execution_count": 28,
   "id": "3e3e00dc-2dcc-4c87-be29-608f4f6169c4",
   "metadata": {},
   "outputs": [
    {
     "name": "stdout",
     "output_type": "stream",
     "text": [
      "Our weighted precision implementation = 0.3981, sklearn's = 0.3981\n"
     ]
    }
   ],
   "source": [
    "print(f\"Our weighted precision implementation = {weighted_precision(y_true, y_pred):.4}, sklearn's = {metrics.precision_score(y_true, y_pred, average='weighted'):.4}\")"
   ]
  },
  {
   "cell_type": "code",
   "execution_count": 39,
   "id": "e9e3802a-59e6-4c11-b1db-00b5f3f57cc1",
   "metadata": {},
   "outputs": [],
   "source": [
    "def accuracy_np(y_true: np.ndarray, y_pred: np.ndarray):\n",
    "    if len(y_true.shape) != 1:\n",
    "        raise ValueError(f\"Accuracy is only defined for vectors, {y_true.shape = }\")\n",
    "    return np.sum(y_true == y_pred) / y_true.shape[0]"
   ]
  },
  {
   "cell_type": "code",
   "execution_count": 40,
   "id": "4cf75ad2-f8ec-4977-887f-18cec41e340f",
   "metadata": {},
   "outputs": [
    {
     "name": "stdout",
     "output_type": "stream",
     "text": [
      "accuracy_np(l1n, l2n) = 0.625\n"
     ]
    }
   ],
   "source": [
    "print(f\"{accuracy_np(np.array(l1n), np.array(l2n)) = :.4}\")"
   ]
  },
  {
   "cell_type": "code",
   "execution_count": 41,
   "id": "98cca858-5d8f-498e-bb4b-a8bd6a9d0353",
   "metadata": {},
   "outputs": [],
   "source": [
    "def weighted_f1(y_true, y_pred):\n",
    "    num_classes = len(np.unique(y_true))\n",
    "    class_counts = Counter(y_true)\n",
    "    cumulative_f1 = 0\n",
    "    for class_id in range(num_classes):\n",
    "        current_class_true = [int(y == class_id) for y in y_true]\n",
    "        current_class_pred = [int(y == class_id) for y in y_pred]\n",
    "        current_class_prec = precision(current_class_true, current_class_pred)\n",
    "        current_class_recall = recall(current_class_true, current_class_pred)\n",
    "\n",
    "        # If the denominator of the current class' F1 would be 0, we can just continue\n",
    "        if (denom := current_class_prec + current_class_recall) == 0:\n",
    "            continue\n",
    "        current_class_f1 = (2 * current_class_prec * current_class_recall) / denom\n",
    "        weighted_f1 = class_counts[class_id] * current_class_f1\n",
    "        cumulative_f1 += weighted_f1\n",
    "    f1 = cumulative_f1 / len(y_true)\n",
    "    return f1"
   ]
  },
  {
   "cell_type": "code",
   "execution_count": 42,
   "id": "6e520e61-18f7-40f0-ab73-698c4e5d6347",
   "metadata": {},
   "outputs": [
    {
     "name": "stdout",
     "output_type": "stream",
     "text": [
      "Our weighted F1 = 0.4127, sklearn's = 0.4127\n"
     ]
    }
   ],
   "source": [
    "print(f\"Our weighted F1 = {weighted_f1(y_true, y_pred):.4}, sklearn's = {metrics.f1_score(y_true, y_pred, average='weighted'):.4}\")"
   ]
  },
  {
   "cell_type": "markdown",
   "id": "db22f0cd-cab1-44a9-a646-870e698eb97f",
   "metadata": {},
   "source": [
    "## Multilabel Classification"
   ]
  },
  {
   "cell_type": "code",
   "execution_count": 50,
   "id": "e2034aed-63a0-4d78-8fe3-5684a75c23fe",
   "metadata": {},
   "outputs": [],
   "source": [
    "def precision_at_k(y_true, y_pred, k):\n",
    "    \"\"\"Calculate precision @ k for a _single_ observation/sample.\n",
    "    \"\"\"\n",
    "    if k < 1:\n",
    "        raise ValueError(f\"Precision @ k is undefined for k <= 0 (got {k})\")\n",
    "    y_pred = y_pred[:k]\n",
    "    pred_labels = set(y_pred)\n",
    "    true_labels = set(y_true)\n",
    "    intersection = pred_labels & true_labels\n",
    "    return len(intersection) / len(y_pred[:k])\n",
    "\n",
    "def average_precision_at_k(y_true, y_pred, k):\n",
    "    \"\"\"Calculate average precision @ k for a _single_\n",
    "    observation/sample.\n",
    "    \"\"\"\n",
    "    pk_values = [precision_at_k(y_true, y_pred, k=i) for i in range (1, k+1)]\n",
    "    if len(pk_values) == 0:\n",
    "        return 0\n",
    "    return sum(pk_values) / len(pk_values)"
   ]
  },
  {
   "cell_type": "code",
   "execution_count": 52,
   "id": "dc32f081-421e-4228-92e9-ff8a2edd23a1",
   "metadata": {},
   "outputs": [],
   "source": [
    "y_true = [\n",
    "    [1, 2, 3,],\n",
    "    [0, 2,],\n",
    "    [1,],\n",
    "    [2, 3,],\n",
    "    [1, 0,],\n",
    "    [],\n",
    "]\n",
    "\n",
    "y_pred = [\n",
    "    [0, 1, 2,],\n",
    "    [1,],\n",
    "    [0, 2, 3,],\n",
    "    [2, 3, 4, 0,],\n",
    "    [0, 1, 2,],\n",
    "    [0,],\n",
    "]"
   ]
  },
  {
   "cell_type": "code",
   "execution_count": 53,
   "id": "44281d17-525b-4fdd-b079-19d5989f1b99",
   "metadata": {},
   "outputs": [
    {
     "name": "stdout",
     "output_type": "stream",
     "text": [
      "\n",
      "            y_true[i] = [1, 2, 3],\n",
      "            y_pred[i] = [0, 1, 2],\n",
      "            Average Precision @ 1 = 0.0 \n",
      "            \n",
      "\n",
      "            y_true[i] = [1, 2, 3],\n",
      "            y_pred[i] = [0, 1, 2],\n",
      "            Average Precision @ 2 = 0.25 \n",
      "            \n",
      "\n",
      "            y_true[i] = [1, 2, 3],\n",
      "            y_pred[i] = [0, 1, 2],\n",
      "            Average Precision @ 3 = 0.38888888888888884 \n",
      "            \n",
      "\n",
      "            y_true[i] = [0, 2],\n",
      "            y_pred[i] = [1],\n",
      "            Average Precision @ 1 = 0.0 \n",
      "            \n",
      "\n",
      "            y_true[i] = [0, 2],\n",
      "            y_pred[i] = [1],\n",
      "            Average Precision @ 2 = 0.0 \n",
      "            \n",
      "\n",
      "            y_true[i] = [0, 2],\n",
      "            y_pred[i] = [1],\n",
      "            Average Precision @ 3 = 0.0 \n",
      "            \n",
      "\n",
      "            y_true[i] = [1],\n",
      "            y_pred[i] = [0, 2, 3],\n",
      "            Average Precision @ 1 = 0.0 \n",
      "            \n",
      "\n",
      "            y_true[i] = [1],\n",
      "            y_pred[i] = [0, 2, 3],\n",
      "            Average Precision @ 2 = 0.0 \n",
      "            \n",
      "\n",
      "            y_true[i] = [1],\n",
      "            y_pred[i] = [0, 2, 3],\n",
      "            Average Precision @ 3 = 0.0 \n",
      "            \n",
      "\n",
      "            y_true[i] = [2, 3],\n",
      "            y_pred[i] = [2, 3, 4, 0],\n",
      "            Average Precision @ 1 = 1.0 \n",
      "            \n",
      "\n",
      "            y_true[i] = [2, 3],\n",
      "            y_pred[i] = [2, 3, 4, 0],\n",
      "            Average Precision @ 2 = 1.0 \n",
      "            \n",
      "\n",
      "            y_true[i] = [2, 3],\n",
      "            y_pred[i] = [2, 3, 4, 0],\n",
      "            Average Precision @ 3 = 0.8888888888888888 \n",
      "            \n",
      "\n",
      "            y_true[i] = [1, 0],\n",
      "            y_pred[i] = [0, 1, 2],\n",
      "            Average Precision @ 1 = 1.0 \n",
      "            \n",
      "\n",
      "            y_true[i] = [1, 0],\n",
      "            y_pred[i] = [0, 1, 2],\n",
      "            Average Precision @ 2 = 1.0 \n",
      "            \n",
      "\n",
      "            y_true[i] = [1, 0],\n",
      "            y_pred[i] = [0, 1, 2],\n",
      "            Average Precision @ 3 = 0.8888888888888888 \n",
      "            \n",
      "\n",
      "            y_true[i] = [],\n",
      "            y_pred[i] = [0],\n",
      "            Average Precision @ 1 = 0.0 \n",
      "            \n",
      "\n",
      "            y_true[i] = [],\n",
      "            y_pred[i] = [0],\n",
      "            Average Precision @ 2 = 0.0 \n",
      "            \n",
      "\n",
      "            y_true[i] = [],\n",
      "            y_pred[i] = [0],\n",
      "            Average Precision @ 3 = 0.0 \n",
      "            \n"
     ]
    }
   ],
   "source": [
    "for i in range(len(y_true)):\n",
    "    for j in range(1, 4):\n",
    "        print(\n",
    "            f\"\"\"\n",
    "            {y_true[i] = },\n",
    "            {y_pred[i] = },\n",
    "            Average Precision @ {j} = {average_precision_at_k(y_true[i], y_pred[i], k=j)} \n",
    "            \"\"\"\n",
    "        )"
   ]
  },
  {
   "cell_type": "code",
   "execution_count": 54,
   "id": "cd4edd95-2330-4c45-9f0b-13c942c3ce37",
   "metadata": {},
   "outputs": [],
   "source": [
    "def mean_average_precision_at_k(y_true, y_pred, k):\n",
    "    apks = [average_precision_at_k(yt, yp, k) for yt, yp in zip(y_true, y_pred)]\n",
    "    return sum(apks) / len(apks)"
   ]
  },
  {
   "cell_type": "code",
   "execution_count": 56,
   "id": "ffa3b737-32dc-49c2-99ea-1307501ce6bb",
   "metadata": {},
   "outputs": [
    {
     "name": "stdout",
     "output_type": "stream",
     "text": [
      "Mean Average Precision @ k=1 = 0.3333\n",
      "Mean Average Precision @ k=2 = 0.375\n",
      "Mean Average Precision @ k=3 = 0.3611\n",
      "Mean Average Precision @ k=4 = 0.3472\n"
     ]
    }
   ],
   "source": [
    "for i in range(1, 5):\n",
    "    print(f\"Mean Average Precision @ k={i} = {mean_average_precision_at_k(y_true, y_pred, i):.4}\")"
   ]
  },
  {
   "cell_type": "code",
   "execution_count": 60,
   "id": "489be2f7-693f-4457-bcdb-6ed58e6a357e",
   "metadata": {},
   "outputs": [],
   "source": [
    "def mean_absolute_error(y_true: list, y_pred: list) -> float:\n",
    "    total_error = sum(\n",
    "        abs(yt - yp)\n",
    "        for (yt, yp) in zip(y_true, y_pred)\n",
    "    )\n",
    "    return total_error / len(y_true)\n",
    "\n",
    "def mean_absolute_error_np(y_true: np.ndarray, y_pred: np.ndarray) -> np.float64:\n",
    "    total_error = np.sum(y_true - y_pred)\n",
    "    return total_error / y_true.shape[0]\n",
    "\n",
    "# got bored of typing out some fairly standard error metric formulas...\n",
    "\n",
    "def r_squared(y_true: list[float], y_pred: list[float]) -> float:\n",
    "    num = sum(\n",
    "        (yt - yp) ** 2\n",
    "        for (yt, yp) in zip(y_true, y_pred)\n",
    "    )\n",
    "    yt_mean = sum(y_true) / len(y_true)\n",
    "    denom = sum(yt - yt_mean for yt in y_true)\n",
    "    return 1 - (num / denom)"
   ]
  },
  {
   "cell_type": "code",
   "execution_count": null,
   "id": "10521454-4b06-41f6-9897-99fa650a0eb9",
   "metadata": {},
   "outputs": [],
   "source": []
  }
 ],
 "metadata": {
  "kernelspec": {
   "display_name": "Python 3 (ipykernel)",
   "language": "python",
   "name": "python3"
  },
  "language_info": {
   "codemirror_mode": {
    "name": "ipython",
    "version": 3
   },
   "file_extension": ".py",
   "mimetype": "text/x-python",
   "name": "python",
   "nbconvert_exporter": "python",
   "pygments_lexer": "ipython3",
   "version": "3.9.17"
  }
 },
 "nbformat": 4,
 "nbformat_minor": 5
}
