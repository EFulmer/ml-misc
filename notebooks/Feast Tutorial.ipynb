{
 "cells": [
  {
   "cell_type": "code",
   "execution_count": 21,
   "id": "a1ebf995-1fd3-43f6-896e-2160624e2f8b",
   "metadata": {},
   "outputs": [
    {
     "name": "stdout",
     "output_type": "stream",
     "text": [
      "/Users/eric/code/ml-misc/feast_tutorial/feature_repo\n"
     ]
    },
    {
     "name": "stderr",
     "output_type": "stream",
     "text": [
      "/Users/eric/Library/Caches/pypoetry/virtualenvs/ml-misc-v-Xd_ym0-py3.9/lib/python3.9/site-packages/IPython/core/magics/osm.py:417: UserWarning: using dhist requires you to install the `pickleshare` library.\n",
      "  self.shell.db['dhist'] = compress_dhist(dhist)[-100:]\n"
     ]
    }
   ],
   "source": [
    "%cd /Users/eric/code/ml-misc/feast_tutorial/feature_repo/"
   ]
  },
  {
   "cell_type": "code",
   "execution_count": 22,
   "id": "a4c2e191-3274-4a55-a4a2-c8df2a305fba",
   "metadata": {},
   "outputs": [],
   "source": [
    "import pandas as pd"
   ]
  },
  {
   "cell_type": "code",
   "execution_count": 23,
   "id": "18d10000-3e98-4126-ae34-5023a53c3124",
   "metadata": {},
   "outputs": [
    {
     "data": {
      "text/html": [
       "<div>\n",
       "<style scoped>\n",
       "    .dataframe tbody tr th:only-of-type {\n",
       "        vertical-align: middle;\n",
       "    }\n",
       "\n",
       "    .dataframe tbody tr th {\n",
       "        vertical-align: top;\n",
       "    }\n",
       "\n",
       "    .dataframe thead th {\n",
       "        text-align: right;\n",
       "    }\n",
       "</style>\n",
       "<table border=\"1\" class=\"dataframe\">\n",
       "  <thead>\n",
       "    <tr style=\"text-align: right;\">\n",
       "      <th></th>\n",
       "      <th>event_timestamp</th>\n",
       "      <th>driver_id</th>\n",
       "      <th>conv_rate</th>\n",
       "      <th>acc_rate</th>\n",
       "      <th>avg_daily_trips</th>\n",
       "      <th>created</th>\n",
       "    </tr>\n",
       "  </thead>\n",
       "  <tbody>\n",
       "    <tr>\n",
       "      <th>0</th>\n",
       "      <td>2025-05-01 19:58:41.023304+00:00</td>\n",
       "      <td>1001</td>\n",
       "      <td>1.000000</td>\n",
       "      <td>1.000000</td>\n",
       "      <td>1000</td>\n",
       "      <td>2025-05-01 19:58:41.023305</td>\n",
       "    </tr>\n",
       "    <tr>\n",
       "      <th>1</th>\n",
       "      <td>2025-05-01 18:37:19.316620+00:00</td>\n",
       "      <td>1001</td>\n",
       "      <td>1.000000</td>\n",
       "      <td>1.000000</td>\n",
       "      <td>1000</td>\n",
       "      <td>2025-05-01 18:37:19.316622</td>\n",
       "    </tr>\n",
       "    <tr>\n",
       "      <th>2</th>\n",
       "      <td>2025-04-16 18:00:00+00:00</td>\n",
       "      <td>1005</td>\n",
       "      <td>0.110278</td>\n",
       "      <td>0.872387</td>\n",
       "      <td>777</td>\n",
       "      <td>2025-05-01 18:28:46.036000</td>\n",
       "    </tr>\n",
       "    <tr>\n",
       "      <th>3</th>\n",
       "      <td>2025-04-16 19:00:00+00:00</td>\n",
       "      <td>1005</td>\n",
       "      <td>0.528918</td>\n",
       "      <td>0.794825</td>\n",
       "      <td>157</td>\n",
       "      <td>2025-05-01 18:28:46.036000</td>\n",
       "    </tr>\n",
       "    <tr>\n",
       "      <th>4</th>\n",
       "      <td>2025-04-16 20:00:00+00:00</td>\n",
       "      <td>1005</td>\n",
       "      <td>0.159503</td>\n",
       "      <td>0.415134</td>\n",
       "      <td>971</td>\n",
       "      <td>2025-05-01 18:28:46.036000</td>\n",
       "    </tr>\n",
       "  </tbody>\n",
       "</table>\n",
       "</div>"
      ],
      "text/plain": [
       "                   event_timestamp  driver_id  conv_rate  acc_rate  \\\n",
       "0 2025-05-01 19:58:41.023304+00:00       1001   1.000000  1.000000   \n",
       "1 2025-05-01 18:37:19.316620+00:00       1001   1.000000  1.000000   \n",
       "2        2025-04-16 18:00:00+00:00       1005   0.110278  0.872387   \n",
       "3        2025-04-16 19:00:00+00:00       1005   0.528918  0.794825   \n",
       "4        2025-04-16 20:00:00+00:00       1005   0.159503  0.415134   \n",
       "\n",
       "   avg_daily_trips                    created  \n",
       "0             1000 2025-05-01 19:58:41.023305  \n",
       "1             1000 2025-05-01 18:37:19.316622  \n",
       "2              777 2025-05-01 18:28:46.036000  \n",
       "3              157 2025-05-01 18:28:46.036000  \n",
       "4              971 2025-05-01 18:28:46.036000  "
      ]
     },
     "execution_count": 23,
     "metadata": {},
     "output_type": "execute_result"
    }
   ],
   "source": [
    "features = pd.read_parquet(\"./data/driver_stats.parquet\")\n",
    "features.head()"
   ]
  },
  {
   "cell_type": "code",
   "execution_count": 24,
   "id": "0da2cf1a-dd8e-4619-bb1f-0a4de0fea98b",
   "metadata": {},
   "outputs": [
    {
     "name": "stderr",
     "output_type": "stream",
     "text": [
      "/Users/eric/Library/Caches/pypoetry/virtualenvs/ml-misc-v-Xd_ym0-py3.9/lib/python3.9/site-packages/feast/repo_config.py:268: DeprecationWarning: The serialization version 2 and below will be deprecated in the next release. Specifying `entity_key_serialization_version` to 3 is recommended.\n",
      "  warnings.warn(\n"
     ]
    }
   ],
   "source": [
    "from datetime import datetime\n",
    "import pandas as pd\n",
    "\n",
    "from feast import FeatureStore\n",
    "\n",
    "# Note: see https://docs.feast.dev/getting-started/concepts/feature-retrieval for \n",
    "# more details on how to retrieve for all entities in the offline store instead\n",
    "entity_df = pd.DataFrame.from_dict(\n",
    "    {\n",
    "        # entity's join key -> entity values\n",
    "        \"driver_id\": [1001, 1002, 1003],\n",
    "        # \"event_timestamp\" (reserved key) -> timestamps\n",
    "        \"event_timestamp\": [\n",
    "            datetime(2021, 4, 12, 10, 59, 42),\n",
    "            datetime(2021, 4, 12, 8, 12, 10),\n",
    "            datetime(2021, 4, 12, 16, 40, 26),\n",
    "        ],\n",
    "        # (optional) label name -> label values. Feast does not process these\n",
    "        \"label_driver_reported_satisfaction\": [1, 5, 3],\n",
    "        # values we're using for an on-demand transformation\n",
    "        \"val_to_add\": [1, 2, 3],\n",
    "        \"val_to_add_2\": [10, 20, 30],\n",
    "    }\n",
    ")\n",
    "\n",
    "store = FeatureStore(repo_path=\".\")"
   ]
  },
  {
   "cell_type": "code",
   "execution_count": 25,
   "id": "7060f144-08c2-48f6-8f3d-3bc00e96cccd",
   "metadata": {},
   "outputs": [
    {
     "data": {
      "text/plain": [
       "FeatureStore(\n",
       "    repo_path=PosixPath('.'),\n",
       "    config=RepoConfig(project='feast_tutorial', provider='local', registry_config='data/registry.db', online_config={'type': 'sqlite', 'path': 'data/online_store.db'}, auth={'type': 'no_auth'}, offline_config='dask', batch_engine_config='local', feature_server=None, flags=None, repo_path=PosixPath('.'), entity_key_serialization_version=2, coerce_tz_aware=True),\n",
       "    registry=<feast.infra.registry.registry.Registry object at 0x16a609310>,\n",
       "    provider=<feast.infra.passthrough_provider.PassthroughProvider object at 0x177e6c910>\n",
       ")"
      ]
     },
     "execution_count": 25,
     "metadata": {},
     "output_type": "execute_result"
    }
   ],
   "source": [
    "store"
   ]
  },
  {
   "cell_type": "code",
   "execution_count": 26,
   "id": "c3284068-4e05-44b7-b2ad-560344b4fe48",
   "metadata": {},
   "outputs": [
    {
     "name": "stdout",
     "output_type": "stream",
     "text": [
      "----- Feature schema -----\n",
      "\n",
      "<class 'pandas.core.frame.DataFrame'>\n",
      "RangeIndex: 3 entries, 0 to 2\n",
      "Data columns (total 10 columns):\n",
      " #   Column                              Non-Null Count  Dtype              \n",
      "---  ------                              --------------  -----              \n",
      " 0   driver_id                           3 non-null      int64              \n",
      " 1   event_timestamp                     3 non-null      datetime64[ns, UTC]\n",
      " 2   label_driver_reported_satisfaction  3 non-null      int64              \n",
      " 3   val_to_add                          3 non-null      int64              \n",
      " 4   val_to_add_2                        3 non-null      int64              \n",
      " 5   conv_rate                           3 non-null      float32            \n",
      " 6   acc_rate                            3 non-null      float32            \n",
      " 7   avg_daily_trips                     3 non-null      int32              \n",
      " 8   conv_rate_plus_val1                 3 non-null      float64            \n",
      " 9   conv_rate_plus_val2                 3 non-null      float64            \n",
      "dtypes: datetime64[ns, UTC](1), float32(2), float64(2), int32(1), int64(4)\n",
      "memory usage: 332.0 bytes\n",
      "None\n",
      "\n",
      "----- Example features -----\n",
      "\n",
      "   driver_id           event_timestamp  label_driver_reported_satisfaction  \\\n",
      "0       1001 2021-04-12 10:59:42+00:00                                   1   \n",
      "1       1002 2021-04-12 08:12:10+00:00                                   5   \n",
      "2       1003 2021-04-12 16:40:26+00:00                                   3   \n",
      "\n",
      "   val_to_add  val_to_add_2  conv_rate  acc_rate  avg_daily_trips  \\\n",
      "0           1            10   0.718718  0.900928              605   \n",
      "1           2            20   0.092225  0.880678              819   \n",
      "2           3            30   0.522711  0.657202              575   \n",
      "\n",
      "   conv_rate_plus_val1  conv_rate_plus_val2  \n",
      "0             1.718718            10.718718  \n",
      "1             2.092225            20.092225  \n",
      "2             3.522711            30.522711  \n"
     ]
    }
   ],
   "source": [
    "training_df = store.get_historical_features(\n",
    "    entity_df=entity_df,\n",
    "    features=[\n",
    "        \"driver_hourly_stats:conv_rate\",\n",
    "        \"driver_hourly_stats:acc_rate\",\n",
    "        \"driver_hourly_stats:avg_daily_trips\",\n",
    "        \"transformed_conv_rate:conv_rate_plus_val1\",\n",
    "        \"transformed_conv_rate:conv_rate_plus_val2\",\n",
    "    ],\n",
    ").to_df()\n",
    "\n",
    "print(\"----- Feature schema -----\\n\")\n",
    "print(training_df.info())\n",
    "\n",
    "print()\n",
    "print(\"----- Example features -----\\n\")\n",
    "print(training_df.head())"
   ]
  },
  {
   "cell_type": "code",
   "execution_count": 27,
   "id": "22e23bb3-77a0-4444-8ed3-274385852140",
   "metadata": {},
   "outputs": [
    {
     "data": {
      "text/plain": [
       "pandas.core.frame.DataFrame"
      ]
     },
     "execution_count": 27,
     "metadata": {},
     "output_type": "execute_result"
    }
   ],
   "source": [
    "type(training_df)"
   ]
  },
  {
   "cell_type": "code",
   "execution_count": 28,
   "id": "8bf46c1e-8f8e-4c3f-9cd8-0ba9a8db0d99",
   "metadata": {},
   "outputs": [
    {
     "name": "stdout",
     "output_type": "stream",
     "text": [
      "\n",
      "----- Example features -----\n",
      "\n",
      "   driver_id                  event_timestamp  \\\n",
      "0       1003 2025-05-02 00:26:38.068305+00:00   \n",
      "1       1002 2025-05-02 00:26:38.068305+00:00   \n",
      "2       1001 2025-05-02 00:26:38.068305+00:00   \n",
      "\n",
      "   label_driver_reported_satisfaction  val_to_add  val_to_add_2  conv_rate  \\\n",
      "0                                   3           3            30   0.662988   \n",
      "1                                   5           2            20   0.119979   \n",
      "2                                   1           1            10   1.000000   \n",
      "\n",
      "   acc_rate  avg_daily_trips  conv_rate_plus_val1  conv_rate_plus_val2  \n",
      "0  0.415009              148             3.662988            30.662988  \n",
      "1  0.918781               81             2.119979            20.119979  \n",
      "2  1.000000             1000             2.000000            11.000000  \n"
     ]
    }
   ],
   "source": [
    "entity_df[\"event_timestamp\"] = pd.to_datetime(\"now\", utc=True)\n",
    "training_df = store.get_historical_features(\n",
    "    entity_df=entity_df,\n",
    "    features=[\n",
    "        \"driver_hourly_stats:conv_rate\",\n",
    "        \"driver_hourly_stats:acc_rate\",\n",
    "        \"driver_hourly_stats:avg_daily_trips\",\n",
    "        \"transformed_conv_rate:conv_rate_plus_val1\",\n",
    "        \"transformed_conv_rate:conv_rate_plus_val2\",\n",
    "    ],\n",
    ").to_df()\n",
    "\n",
    "print(\"\\n----- Example features -----\\n\")\n",
    "print(training_df.head())"
   ]
  },
  {
   "cell_type": "code",
   "execution_count": 29,
   "id": "01dad2ca-834f-4942-88cd-50e7a2464a28",
   "metadata": {},
   "outputs": [
    {
     "name": "stdout",
     "output_type": "stream",
     "text": [
      "{'acc_rate': [0.9606223702430725, 0.2365042269229889],\n",
      " 'avg_daily_trips': [365, 112],\n",
      " 'conv_rate': [0.5189543962478638, 0.7309948801994324],\n",
      " 'driver_id': [1004, 1005]}\n"
     ]
    },
    {
     "name": "stderr",
     "output_type": "stream",
     "text": [
      "/Users/eric/Library/Caches/pypoetry/virtualenvs/ml-misc-v-Xd_ym0-py3.9/lib/python3.9/site-packages/feast/repo_config.py:268: DeprecationWarning: The serialization version 2 and below will be deprecated in the next release. Specifying `entity_key_serialization_version` to 3 is recommended.\n",
      "  warnings.warn(\n"
     ]
    }
   ],
   "source": [
    "from pprint import pprint\n",
    "from feast import FeatureStore\n",
    "\n",
    "store = FeatureStore(repo_path=\".\")\n",
    "\n",
    "feature_vector = store.get_online_features(\n",
    "    features=[\n",
    "        \"driver_hourly_stats:conv_rate\",\n",
    "        \"driver_hourly_stats:acc_rate\",\n",
    "        \"driver_hourly_stats:avg_daily_trips\",\n",
    "    ],\n",
    "    entity_rows=[\n",
    "        # {join_key: entity_value}\n",
    "        {\"driver_id\": 1004},\n",
    "        {\"driver_id\": 1005},\n",
    "    ],\n",
    ").to_dict()\n",
    "\n",
    "pprint(feature_vector)"
   ]
  },
  {
   "cell_type": "code",
   "execution_count": 30,
   "id": "62631e3c-cc48-4b7f-80ac-f8aed3b78c0e",
   "metadata": {},
   "outputs": [
    {
     "data": {
      "text/plain": [
       "\u001b[0;31mSignature:\u001b[0m\n",
       "\u001b[0mstore\u001b[0m\u001b[0;34m.\u001b[0m\u001b[0mget_online_features\u001b[0m\u001b[0;34m(\u001b[0m\u001b[0;34m\u001b[0m\n",
       "\u001b[0;34m\u001b[0m    \u001b[0mfeatures\u001b[0m\u001b[0;34m:\u001b[0m \u001b[0mUnion\u001b[0m\u001b[0;34m[\u001b[0m\u001b[0mList\u001b[0m\u001b[0;34m[\u001b[0m\u001b[0mstr\u001b[0m\u001b[0;34m]\u001b[0m\u001b[0;34m,\u001b[0m \u001b[0mfeast\u001b[0m\u001b[0;34m.\u001b[0m\u001b[0mfeature_service\u001b[0m\u001b[0;34m.\u001b[0m\u001b[0mFeatureService\u001b[0m\u001b[0;34m]\u001b[0m\u001b[0;34m,\u001b[0m\u001b[0;34m\u001b[0m\n",
       "\u001b[0;34m\u001b[0m    \u001b[0mentity_rows\u001b[0m\u001b[0;34m:\u001b[0m \u001b[0mUnion\u001b[0m\u001b[0;34m[\u001b[0m\u001b[0mList\u001b[0m\u001b[0;34m[\u001b[0m\u001b[0mDict\u001b[0m\u001b[0;34m[\u001b[0m\u001b[0mstr\u001b[0m\u001b[0;34m,\u001b[0m \u001b[0mAny\u001b[0m\u001b[0;34m]\u001b[0m\u001b[0;34m]\u001b[0m\u001b[0;34m,\u001b[0m \u001b[0mMapping\u001b[0m\u001b[0;34m[\u001b[0m\u001b[0mstr\u001b[0m\u001b[0;34m,\u001b[0m \u001b[0mUnion\u001b[0m\u001b[0;34m[\u001b[0m\u001b[0mSequence\u001b[0m\u001b[0;34m[\u001b[0m\u001b[0mAny\u001b[0m\u001b[0;34m]\u001b[0m\u001b[0;34m,\u001b[0m \u001b[0mSequence\u001b[0m\u001b[0;34m[\u001b[0m\u001b[0mfeast\u001b[0m\u001b[0;34m.\u001b[0m\u001b[0mtypes\u001b[0m\u001b[0;34m.\u001b[0m\u001b[0mValue_pb2\u001b[0m\u001b[0;34m.\u001b[0m\u001b[0mValue\u001b[0m\u001b[0;34m]\u001b[0m\u001b[0;34m,\u001b[0m \u001b[0mfeast\u001b[0m\u001b[0;34m.\u001b[0m\u001b[0mtypes\u001b[0m\u001b[0;34m.\u001b[0m\u001b[0mValue_pb2\u001b[0m\u001b[0;34m.\u001b[0m\u001b[0mRepeatedValue\u001b[0m\u001b[0;34m]\u001b[0m\u001b[0;34m]\u001b[0m\u001b[0;34m]\u001b[0m\u001b[0;34m,\u001b[0m\u001b[0;34m\u001b[0m\n",
       "\u001b[0;34m\u001b[0m    \u001b[0mfull_feature_names\u001b[0m\u001b[0;34m:\u001b[0m \u001b[0mbool\u001b[0m \u001b[0;34m=\u001b[0m \u001b[0;32mFalse\u001b[0m\u001b[0;34m,\u001b[0m\u001b[0;34m\u001b[0m\n",
       "\u001b[0;34m\u001b[0m\u001b[0;34m)\u001b[0m \u001b[0;34m->\u001b[0m \u001b[0mfeast\u001b[0m\u001b[0;34m.\u001b[0m\u001b[0monline_response\u001b[0m\u001b[0;34m.\u001b[0m\u001b[0mOnlineResponse\u001b[0m\u001b[0;34m\u001b[0m\u001b[0;34m\u001b[0m\u001b[0m\n",
       "\u001b[0;31mDocstring:\u001b[0m\n",
       "Retrieves the latest online feature data.\n",
       "\n",
       "Note: This method will download the full feature registry the first time it is run. If you are using a\n",
       "remote registry like GCS or S3 then that may take a few seconds. The registry remains cached up to a TTL\n",
       "duration (which can be set to infinity). If the cached registry is stale (more time than the TTL has\n",
       "passed), then a new registry will be downloaded synchronously by this method. This download may\n",
       "introduce latency to online feature retrieval. In order to avoid synchronous downloads, please call\n",
       "refresh_registry() prior to the TTL being reached. Remember it is possible to set the cache TTL to\n",
       "infinity (cache forever).\n",
       "\n",
       "Args:\n",
       "    features: The list of features that should be retrieved from the online store. These features can be\n",
       "        specified either as a list of string feature references or as a feature service. String feature\n",
       "        references must have format \"feature_view:feature\", e.g. \"customer_fv:daily_transactions\".\n",
       "    entity_rows: A list of dictionaries where each key-value is an entity-name, entity-value pair.\n",
       "    full_feature_names: If True, feature names will be prefixed with the corresponding feature view name,\n",
       "        changing them from the format \"feature\" to \"feature_view__feature\" (e.g. \"daily_transactions\"\n",
       "        changes to \"customer_fv__daily_transactions\").\n",
       "\n",
       "Returns:\n",
       "    OnlineResponse containing the feature data in records.\n",
       "\n",
       "Raises:\n",
       "    Exception: No entity with the specified name exists.\n",
       "\n",
       "Examples:\n",
       "    Retrieve online features from an online store.\n",
       "\n",
       "    >>> from feast import FeatureStore, RepoConfig\n",
       "    >>> fs = FeatureStore(repo_path=\"project/feature_repo\")\n",
       "    >>> online_response = fs.get_online_features(\n",
       "    ...     features=[\n",
       "    ...         \"driver_hourly_stats:conv_rate\",\n",
       "    ...         \"driver_hourly_stats:acc_rate\",\n",
       "    ...         \"driver_hourly_stats:avg_daily_trips\",\n",
       "    ...     ],\n",
       "    ...     entity_rows=[{\"driver_id\": 1001}, {\"driver_id\": 1002}, {\"driver_id\": 1003}, {\"driver_id\": 1004}],\n",
       "    ... )\n",
       "    >>> online_response_dict = online_response.to_dict()\n",
       "\u001b[0;31mFile:\u001b[0m      ~/Library/Caches/pypoetry/virtualenvs/ml-misc-v-Xd_ym0-py3.9/lib/python3.9/site-packages/feast/feature_store.py\n",
       "\u001b[0;31mType:\u001b[0m      method"
      ]
     },
     "metadata": {},
     "output_type": "display_data"
    }
   ],
   "source": [
    "store.get_online_features?"
   ]
  },
  {
   "cell_type": "code",
   "execution_count": 35,
   "id": "068380ac-0daf-4242-93cc-156b7157910d",
   "metadata": {},
   "outputs": [
    {
     "name": "stdout",
     "output_type": "stream",
     "text": [
      "{'conv_rate': [0.5189543962478638, 0.7309948801994324],\n",
      " 'conv_rate_plus_val1': [0.5189543962478638, 0.7309948801994324],\n",
      " 'conv_rate_plus_val2': [0.5189543962478638, 0.7309948801994324],\n",
      " 'driver_id': [1004, 1005]}\n"
     ]
    }
   ],
   "source": [
    "from pprint import pprint\n",
    "from feast import FeatureStore\n",
    "feature_store = FeatureStore('.')  # Initialize the feature store\n",
    "\n",
    "feature_service = feature_store.get_feature_service(\"driver_activity_v1\")\n",
    "feature_vector = feature_store.get_online_features(\n",
    "    features=feature_service,\n",
    "    entity_rows=[\n",
    "        # {join_key: entity_value}\n",
    "        {\n",
    "            \"driver_id\": 1004,\n",
    "            \"val_to_add\": 0.0,\n",
    "            \"val_to_add_2\": 0.0,\n",
    "        },\n",
    "        {\n",
    "            \"driver_id\": 1005,\n",
    "            \"val_to_add\": 0.0,\n",
    "            \"val_to_add_2\": 0.0,\n",
    "        },\n",
    "    ],\n",
    ").to_dict()\n",
    "pprint(feature_vector)"
   ]
  },
  {
   "cell_type": "code",
   "execution_count": null,
   "id": "17767702-bc81-41a3-8428-047f809656da",
   "metadata": {},
   "outputs": [],
   "source": []
  }
 ],
 "metadata": {
  "kernelspec": {
   "display_name": "Python 3 (ipykernel)",
   "language": "python",
   "name": "python3"
  },
  "language_info": {
   "codemirror_mode": {
    "name": "ipython",
    "version": 3
   },
   "file_extension": ".py",
   "mimetype": "text/x-python",
   "name": "python",
   "nbconvert_exporter": "python",
   "pygments_lexer": "ipython3",
   "version": "3.9.6"
  }
 },
 "nbformat": 4,
 "nbformat_minor": 5
}
