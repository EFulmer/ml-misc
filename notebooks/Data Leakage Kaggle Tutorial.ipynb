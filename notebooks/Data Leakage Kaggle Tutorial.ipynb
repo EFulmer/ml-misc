{
 "cells": [
  {
   "cell_type": "code",
   "execution_count": 15,
   "id": "78d1a093-6eb9-48b8-b910-13da3a7c75fa",
   "metadata": {},
   "outputs": [
    {
     "name": "stdout",
     "output_type": "stream",
     "text": [
      "X.shape, y.shape = ((1319, 11), (1319,))\n"
     ]
    },
    {
     "data": {
      "text/html": [
       "<div>\n",
       "<style scoped>\n",
       "    .dataframe tbody tr th:only-of-type {\n",
       "        vertical-align: middle;\n",
       "    }\n",
       "\n",
       "    .dataframe tbody tr th {\n",
       "        vertical-align: top;\n",
       "    }\n",
       "\n",
       "    .dataframe thead th {\n",
       "        text-align: right;\n",
       "    }\n",
       "</style>\n",
       "<table border=\"1\" class=\"dataframe\">\n",
       "  <thead>\n",
       "    <tr style=\"text-align: right;\">\n",
       "      <th></th>\n",
       "      <th>reports</th>\n",
       "      <th>age</th>\n",
       "      <th>income</th>\n",
       "      <th>share</th>\n",
       "      <th>expenditure</th>\n",
       "      <th>owner</th>\n",
       "      <th>selfemp</th>\n",
       "      <th>dependents</th>\n",
       "      <th>months</th>\n",
       "      <th>majorcards</th>\n",
       "      <th>active</th>\n",
       "    </tr>\n",
       "  </thead>\n",
       "  <tbody>\n",
       "    <tr>\n",
       "      <th>0</th>\n",
       "      <td>0</td>\n",
       "      <td>37.66667</td>\n",
       "      <td>4.5200</td>\n",
       "      <td>0.033270</td>\n",
       "      <td>124.983300</td>\n",
       "      <td>yes</td>\n",
       "      <td>no</td>\n",
       "      <td>3</td>\n",
       "      <td>54</td>\n",
       "      <td>1</td>\n",
       "      <td>12</td>\n",
       "    </tr>\n",
       "    <tr>\n",
       "      <th>1</th>\n",
       "      <td>0</td>\n",
       "      <td>33.25000</td>\n",
       "      <td>2.4200</td>\n",
       "      <td>0.005217</td>\n",
       "      <td>9.854167</td>\n",
       "      <td>no</td>\n",
       "      <td>no</td>\n",
       "      <td>3</td>\n",
       "      <td>34</td>\n",
       "      <td>1</td>\n",
       "      <td>13</td>\n",
       "    </tr>\n",
       "    <tr>\n",
       "      <th>2</th>\n",
       "      <td>0</td>\n",
       "      <td>33.66667</td>\n",
       "      <td>4.5000</td>\n",
       "      <td>0.004156</td>\n",
       "      <td>15.000000</td>\n",
       "      <td>yes</td>\n",
       "      <td>no</td>\n",
       "      <td>4</td>\n",
       "      <td>58</td>\n",
       "      <td>1</td>\n",
       "      <td>5</td>\n",
       "    </tr>\n",
       "    <tr>\n",
       "      <th>3</th>\n",
       "      <td>0</td>\n",
       "      <td>30.50000</td>\n",
       "      <td>2.5400</td>\n",
       "      <td>0.065214</td>\n",
       "      <td>137.869200</td>\n",
       "      <td>no</td>\n",
       "      <td>no</td>\n",
       "      <td>0</td>\n",
       "      <td>25</td>\n",
       "      <td>1</td>\n",
       "      <td>7</td>\n",
       "    </tr>\n",
       "    <tr>\n",
       "      <th>4</th>\n",
       "      <td>0</td>\n",
       "      <td>32.16667</td>\n",
       "      <td>9.7867</td>\n",
       "      <td>0.067051</td>\n",
       "      <td>546.503300</td>\n",
       "      <td>yes</td>\n",
       "      <td>no</td>\n",
       "      <td>2</td>\n",
       "      <td>64</td>\n",
       "      <td>1</td>\n",
       "      <td>5</td>\n",
       "    </tr>\n",
       "  </tbody>\n",
       "</table>\n",
       "</div>"
      ],
      "text/plain": [
       "   reports       age  income     share  expenditure owner selfemp  dependents  \\\n",
       "0        0  37.66667  4.5200  0.033270   124.983300   yes      no           3   \n",
       "1        0  33.25000  2.4200  0.005217     9.854167    no      no           3   \n",
       "2        0  33.66667  4.5000  0.004156    15.000000   yes      no           4   \n",
       "3        0  30.50000  2.5400  0.065214   137.869200    no      no           0   \n",
       "4        0  32.16667  9.7867  0.067051   546.503300   yes      no           2   \n",
       "\n",
       "   months  majorcards  active  \n",
       "0      54           1      12  \n",
       "1      34           1      13  \n",
       "2      58           1       5  \n",
       "3      25           1       7  \n",
       "4      64           1       5  "
      ]
     },
     "execution_count": 15,
     "metadata": {},
     "output_type": "execute_result"
    }
   ],
   "source": [
    "import pandas as pd\n",
    "\n",
    "data = pd.read_csv(\"../data/AER_credit_card_data.csv\")\n",
    "\n",
    "X = data.drop(\"card\", axis=1)\n",
    "y = data[\"card\"]\n",
    "\n",
    "print(f\"{X.shape, y.shape = }\")\n",
    "X.head()"
   ]
  },
  {
   "cell_type": "code",
   "execution_count": 16,
   "id": "e59662d1-5e77-4af3-bbdd-f6fc25f667f7",
   "metadata": {},
   "outputs": [
    {
     "data": {
      "text/plain": [
       "0    yes\n",
       "1    yes\n",
       "2    yes\n",
       "3    yes\n",
       "4    yes\n",
       "Name: card, dtype: object"
      ]
     },
     "execution_count": 16,
     "metadata": {},
     "output_type": "execute_result"
    }
   ],
   "source": [
    "y.head()"
   ]
  },
  {
   "cell_type": "code",
   "execution_count": 17,
   "id": "c72eecc6-b1ca-45bd-b1f2-bd9d94d69ab2",
   "metadata": {},
   "outputs": [],
   "source": [
    "y = (y == \"yes\").apply(int)"
   ]
  },
  {
   "cell_type": "code",
   "execution_count": 18,
   "id": "fc10eede-4bd9-47bf-9a23-7c04666a0a96",
   "metadata": {},
   "outputs": [
    {
     "data": {
      "text/plain": [
       "0    0\n",
       "1    0\n",
       "2    0\n",
       "3    0\n",
       "4    0\n",
       "Name: selfemp, dtype: int64"
      ]
     },
     "execution_count": 18,
     "metadata": {},
     "output_type": "execute_result"
    }
   ],
   "source": [
    "owner = (X[\"owner\"] == \"yes\").apply(int)\n",
    "selfemp = (X[\"selfemp\"] == \"yes\").apply(int)\n",
    "\n",
    "owner.head()\n",
    "selfemp.head()"
   ]
  },
  {
   "cell_type": "code",
   "execution_count": 19,
   "id": "99afcd93-cc28-4d78-9531-1b3c8cfe3f3a",
   "metadata": {},
   "outputs": [],
   "source": [
    "X[\"owner\"] = owner\n",
    "X[\"selfemp\"] = selfemp"
   ]
  },
  {
   "cell_type": "code",
   "execution_count": 20,
   "id": "c13cec61-a720-4b8a-8f5b-93c1e5633ae6",
   "metadata": {},
   "outputs": [
    {
     "name": "stdout",
     "output_type": "stream",
     "text": [
      "Cross-validation accuracy = 0.9802915082382764\n"
     ]
    }
   ],
   "source": [
    "from sklearn.ensemble import RandomForestClassifier\n",
    "from sklearn.model_selection import cross_val_score\n",
    "from sklearn.pipeline import make_pipeline\n",
    "\n",
    "pipeline = make_pipeline(RandomForestClassifier(n_estimators=100))\n",
    "cv_scores = cross_val_score(pipeline, X, y, cv=5, scoring=\"accuracy\")\n",
    "\n",
    "print(f\"Cross-validation accuracy = {cv_scores.mean()}\")"
   ]
  },
  {
   "cell_type": "code",
   "execution_count": 21,
   "id": "48bfd4bd-f3f9-4250-95ca-f0e1d7df5d83",
   "metadata": {},
   "outputs": [
    {
     "name": "stdout",
     "output_type": "stream",
     "text": [
      "Percentage of those who did not receive a card and had no expenditures = 0.22441243366186506\n",
      "Percentage of those who received a card and had no expenditures = 0.775587566338135\n"
     ]
    }
   ],
   "source": [
    "expenditure_for_cardholders = X[\"expenditure\"] == y\n",
    "expenditure_non_cardholders = X[\"expenditure\"] != y\n",
    "\n",
    "print(f\"Percentage of those who did not receive a card and had no expenditures = {(expenditure_non_cardholders == 0).mean()}\")\n",
    "print(f\"Percentage of those who received a card and had no expenditures = {(expenditure_for_cardholders == 0).mean()}\")"
   ]
  },
  {
   "cell_type": "code",
   "execution_count": 22,
   "id": "0d734a21-8df8-48e8-bb99-3f47a3de31b5",
   "metadata": {},
   "outputs": [
    {
     "name": "stdout",
     "output_type": "stream",
     "text": [
      "Cross-validation accuracy = 0.8309309828321234\n"
     ]
    }
   ],
   "source": [
    "potential_leaks = [\"expenditure\", \"share\", \"active\", \"majorcards\"]\n",
    "X2 = X.drop(potential_leaks, axis=1)\n",
    "\n",
    "cv_scores = cross_val_score(pipeline, X2, y, cv=5, scoring=\"accuracy\")\n",
    "\n",
    "print(f\"Cross-validation accuracy = {cv_scores.mean()}\")"
   ]
  },
  {
   "cell_type": "code",
   "execution_count": null,
   "id": "7d1cab6c-bb35-4f90-8c50-d27eff0cdd5e",
   "metadata": {},
   "outputs": [],
   "source": []
  }
 ],
 "metadata": {
  "kernelspec": {
   "display_name": "Python 3 (ipykernel)",
   "language": "python",
   "name": "python3"
  },
  "language_info": {
   "codemirror_mode": {
    "name": "ipython",
    "version": 3
   },
   "file_extension": ".py",
   "mimetype": "text/x-python",
   "name": "python",
   "nbconvert_exporter": "python",
   "pygments_lexer": "ipython3",
   "version": "3.9.6"
  }
 },
 "nbformat": 4,
 "nbformat_minor": 5
}
